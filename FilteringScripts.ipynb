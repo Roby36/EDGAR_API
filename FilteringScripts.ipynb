{
 "cells": [
  {
   "cell_type": "markdown",
   "metadata": {},
   "source": [
    "### General Set Up"
   ]
  },
  {
   "cell_type": "code",
   "execution_count": 1,
   "metadata": {},
   "outputs": [
    {
     "name": "stderr",
     "output_type": "stream",
     "text": [
      "2024-07-20 18:52:49,507 - INFO - Request to https://www.sec.gov/files/company_tickers.json returned successfully. Response code: 200\n"
     ]
    }
   ],
   "source": [
    "import ealib\n",
    "import logging\n",
    "import pandas as pd\n",
    "from collections import Counter\n",
    "from typing import List\n",
    "import random\n",
    "from typing import Tuple\n",
    "import yfinance as yf\n",
    "import matplotlib.pyplot as plt\n",
    "import numpy as np\n",
    "\n",
    "# Required to identify with EDGAR API\n",
    "req_header = {\"User-Agent\": \"roberto.brera.24@outlook.com\"}\n",
    "\n",
    "# Select rate of requests (< 10)\n",
    "mrps = 8\n",
    "\n",
    "# Select desired logging level\n",
    "logging.basicConfig(level=logging.INFO, format='%(asctime)s - %(levelname)s - %(message)s', force=True)\n",
    "\n",
    "# Stores information about all tickers currently available on SEC database\n",
    "tickers_df = ealib.get_tickers_df(req_header)"
   ]
  },
  {
   "cell_type": "markdown",
   "metadata": {},
   "source": [
    "### Filtering steps"
   ]
  },
  {
   "cell_type": "markdown",
   "metadata": {},
   "source": [
    "#### Main filtering function"
   ]
  },
  {
   "cell_type": "code",
   "execution_count": null,
   "metadata": {},
   "outputs": [],
   "source": [
    "# Main parameter setting and fucntion call\n",
    "comp_out_df, missing_data_df = ealib.screen_select_companies(\n",
    "    # general parameters:\n",
    "        req_header=req_header, \n",
    "        mrps=8, \n",
    "        tickers_df=tickers_df, \n",
    "        root_dir=\"Selected filings\", \n",
    "    # filtering parameters:\n",
    "        query_forms = [\"424B5\", \"S-3\"], \n",
    "        max_days = 180, \n",
    "        max_market_cap = 15*(10**9), \n",
    "        max_ocf_daily_burn_rate = 0, \n",
    "        ocf_max_days = 180, \n",
    "        ocf_filing_date_col = \"filed\",\n",
    "    # download parameters:\n",
    "        out_df_sort_key = \"Avg yearly OCF burn / Market Cap\", \n",
    "        write_txt = False, \n",
    "        write_pdf = True\n",
    ")"
   ]
  },
  {
   "cell_type": "code",
   "execution_count": null,
   "metadata": {},
   "outputs": [],
   "source": [
    "# Save to Excel\n",
    "file_name = \"Selected filings.xlsx\"\n",
    "with pd.ExcelWriter(file_name, engine='openpyxl') as writer:\n",
    "    # Write each DataFrame to a different sheet\n",
    "    comp_out_df.to_excel(writer, sheet_name='Verified Companies', index=False)\n",
    "    missing_data_df.to_excel(writer, sheet_name='Companies with missing data', index=False)"
   ]
  },
  {
   "cell_type": "markdown",
   "metadata": {},
   "source": [
    "####  Attempt to retrieve OCF with yf"
   ]
  },
  {
   "cell_type": "code",
   "execution_count": null,
   "metadata": {},
   "outputs": [],
   "source": [
    "# First extract the original ticker\n",
    "missing_data_ticks = missing_data_df[\"CIQ ticker\"].apply(lambda x: x.split(\":\")[1] if \":\" in x else x)\n",
    "missing_data_ticks"
   ]
  },
  {
   "cell_type": "code",
   "execution_count": null,
   "metadata": {},
   "outputs": [],
   "source": [
    "# Compute OCF with yfinance\n",
    "operatingCashflow_series = missing_data_ticks.apply(lambda x: ealib.yf_info(x, \"operatingCashflow\"))\n",
    "\n",
    "# How many Nones have we still got?\n",
    "operatingCashflow_series.isna().sum()"
   ]
  },
  {
   "cell_type": "code",
   "execution_count": null,
   "metadata": {},
   "outputs": [],
   "source": [
    "# Now write enriched data frame back to Excel\n",
    "operatingCashflow_series.name = \"OCF (yf)\"\n",
    "enriched_df = pd.concat([missing_data_df, operatingCashflow_series], axis=1)\n",
    "enriched_df.to_excel(\"enriched missing data.xlsx\", sheet_name='Enriched missing data (yf)', index=False)"
   ]
  },
  {
   "cell_type": "markdown",
   "metadata": {},
   "source": [
    "#### Remove pharma/ biotech"
   ]
  },
  {
   "cell_type": "code",
   "execution_count": null,
   "metadata": {},
   "outputs": [],
   "source": [
    "file_name = \"Selected filings companies 18-07-24 copy.xlsx\"\n",
    "header_row = 1\n",
    "\n",
    "with pd.ExcelFile(file_name, engine='openpyxl') as reader:\n",
    "    # Retrieve each DataFrame from the respective sheet\n",
    "    comp_out_df = pd.read_excel(reader, sheet_name='Verified Companies', header=header_row)\n",
    "    missing_data_df = pd.read_excel(reader, sheet_name='Companies with missing data', header=header_row)"
   ]
  },
  {
   "cell_type": "code",
   "execution_count": null,
   "metadata": {},
   "outputs": [],
   "source": [
    "# Clean the dataframes\n",
    "comp_out_df.drop(columns=['Unnamed: 0'], inplace=True)\n",
    "missing_data_df.drop(columns=['Unnamed: 0'], inplace=True)"
   ]
  },
  {
   "cell_type": "code",
   "execution_count": null,
   "metadata": {},
   "outputs": [],
   "source": [
    "# Reconstruct original tickers\n",
    "comp_out_df[\"ticker\"] = comp_out_df[\"CIQ ticker\"].apply(lambda x: x.split(\":\")[1] if \":\" in x else x)\n",
    "missing_data_df[\"ticker\"] = missing_data_df[\"CIQ ticker\"].apply(lambda x: x.split(\":\")[1] if \":\" in x else x)"
   ]
  },
  {
   "cell_type": "code",
   "execution_count": null,
   "metadata": {},
   "outputs": [],
   "source": [
    "# Compute sic codes, and add as new columns\n",
    "def get_sic(tickers_df, ticker, req_header, mrps):\n",
    "    found_ticker = ealib.find_ticker(tickers_df, ticker)\n",
    "    if found_ticker.empty:\n",
    "        return None  # or some default value or error handling\n",
    "    return ealib.get_response_dict(ealib.metadata_url(found_ticker.iloc[0][\"cik_str\"]), req_header, mrps=mrps)[\"sic\"]\n",
    "\n",
    "comp_out_df[\"sid\"] = comp_out_df[\"ticker\"].apply(lambda ticker: get_sic(tickers_df, ticker, req_header, 8))\n",
    "missing_data_df[\"sid\"] = missing_data_df[\"ticker\"].apply(lambda ticker: get_sic(tickers_df, ticker, req_header, 8))"
   ]
  },
  {
   "cell_type": "code",
   "execution_count": null,
   "metadata": {},
   "outputs": [],
   "source": [
    "# First save to Excel with still all companies\n",
    "with pd.ExcelWriter(\"Select Comps with sic.xlsx\", engine='openpyxl') as writer:\n",
    "    # Write each DataFrame to a different sheet\n",
    "    comp_out_df.to_excel(writer, sheet_name='Verified Companies', index=False)\n",
    "    missing_data_df.to_excel(writer, sheet_name='Companies with missing data', index=False)"
   ]
  },
  {
   "cell_type": "code",
   "execution_count": null,
   "metadata": {},
   "outputs": [],
   "source": [
    "comp_out_df.rename(columns={\"sid\": \"sic\"}, inplace=True)\n",
    "missing_data_df.rename(columns={\"sid\": \"sic\"}, inplace=True)"
   ]
  },
  {
   "cell_type": "code",
   "execution_count": null,
   "metadata": {},
   "outputs": [],
   "source": [
    "# How many Nans? \n",
    "comp_out_df_na_percentage     = comp_out_df[\"sic\"].isna().mean() * 100\n",
    "missing_data_df_na_percentage = missing_data_df[\"sic\"].isna().mean() * 100\n",
    "\n",
    "logging.info(f\"Percentage of NA/NaN/None values in comp_out_df['sic']: {comp_out_df_na_percentage:.2f}%\")\n",
    "logging.info(f\"Percentage of NA/NaN/None values in missing_data_df['sic']: {missing_data_df_na_percentage:.2f}%\")"
   ]
  },
  {
   "cell_type": "code",
   "execution_count": null,
   "metadata": {},
   "outputs": [],
   "source": [
    "# Counters for combined dataframes\n",
    "sic_counter = Counter()\n",
    "\n",
    "for index, row in pd.concat([comp_out_df, missing_data_df], ignore_index=True).iterrows():\n",
    "    sic_counter[f\"{row['sic']}\"] += 1\n",
    "\n",
    "# Print results\n",
    "for key, value in sic_counter.items():\n",
    "    print(f\"{key}\")\n"
   ]
  },
  {
   "cell_type": "code",
   "execution_count": null,
   "metadata": {},
   "outputs": [],
   "source": [
    "# Strings whose combined occurrence you want to find\n",
    "pharma_biotech_sic_codes = [\n",
    "    '2833', '2834', '2835', '2836', '8731', '8734', '3841', '3842', '3845'\n",
    "]\n",
    "\n",
    "comp_out_df_filt     = comp_out_df[~comp_out_df['sic'].isin(pharma_biotech_sic_codes)]\n",
    "missing_data_df_filt = missing_data_df[~missing_data_df['sic'].isin(pharma_biotech_sic_codes)]"
   ]
  },
  {
   "cell_type": "code",
   "execution_count": null,
   "metadata": {},
   "outputs": [],
   "source": [
    "# Write back to Excel after processing:\n",
    "file_name = \"No pharma&biotech Select Comps.xlsx\"\n",
    "with pd.ExcelWriter(file_name, engine='openpyxl') as writer:\n",
    "    # Write each DataFrame to a different sheet\n",
    "    comp_out_df_filt.to_excel(writer, sheet_name='Verified Companies', index=False)\n",
    "    missing_data_df_filt.to_excel(writer, sheet_name='Companies with missing data', index=False)"
   ]
  },
  {
   "cell_type": "markdown",
   "metadata": {},
   "source": [
    "#### Require increase in Shares Outstanding for last 6 months"
   ]
  },
  {
   "cell_type": "code",
   "execution_count": null,
   "metadata": {},
   "outputs": [],
   "source": [
    "file_name = \"No pharma&biotech Select Comps.xlsx\"\n",
    "header_row = 0\n",
    "\n",
    "with pd.ExcelFile(file_name, engine='openpyxl') as reader:\n",
    "    # Retrieve each DataFrame from the respective sheet\n",
    "    comp_out_df = pd.read_excel(reader, sheet_name='Verified Companies', header=header_row)\n",
    "    missing_data_df = pd.read_excel(reader, sheet_name='Companies with missing data', header=header_row)"
   ]
  },
  {
   "cell_type": "code",
   "execution_count": null,
   "metadata": {},
   "outputs": [],
   "source": [
    "# Apply on whole dataframes \n",
    "def perc_change_shares_out(tickers_df, ticker, req_header, mrps):\n",
    "    found_ticker = ealib.find_ticker(tickers_df, ticker)\n",
    "    if found_ticker.empty:\n",
    "        return None \n",
    "    comp_facts = ealib.get_response_dict(ealib.companyfacts_url(found_ticker.iloc[0][\"cik_str\"]), req_header, mrps)\n",
    "    if comp_facts is None:\n",
    "        logging.warning(f'Failed request when attempting to retrieve company facts for ticker {found_ticker[\"ticker\"]}, or comp_facts dictionary empty')\n",
    "    # Extract desired company fact\n",
    "    res = ealib.comp_facts_df(\n",
    "        comp_facts, \n",
    "        query_fact_substr=[\"NumberOfSharesOutstanding\", \"EntityCommonStockSharesOutstanding\", \"CommonStockSharesOutstanding\"], \n",
    "        sufficient=True\n",
    "    )\n",
    "    # Iterate through all the matched facts and their dataframes\n",
    "    return ealib.comp_fact_avg_change(res, 180, 360)\n",
    "\n",
    "comp_out_df[\"% change in shares outstanding (~6 months)\"] = comp_out_df[\"ticker\"].apply(lambda ticker: perc_change_shares_out(tickers_df, ticker, req_header, 8))\n",
    "missing_data_df[\"% change in shares outstanding (~6 months)\"] = missing_data_df[\"ticker\"].apply(lambda ticker: perc_change_shares_out(tickers_df, ticker, req_header, 8))"
   ]
  },
  {
   "cell_type": "code",
   "execution_count": null,
   "metadata": {},
   "outputs": [],
   "source": [
    "# How many nans?\n",
    "comp_out_df_na_percentage     = comp_out_df[\"% change in shares outstanding (~6 months)\"].isna().mean() * 100\n",
    "missing_data_df_na_percentage = missing_data_df[\"% change in shares outstanding (~6 months)\"].isna().mean() * 100\n",
    "\n",
    "logging.info(f\"Percentage of NA/NaN/None values in comp_out_df['% change in shares outstanding (~6 months)']: {comp_out_df_na_percentage:.2f}%\")\n",
    "logging.info(f\"Percentage of NA/NaN/None values in missing_data_df['% change in shares outstanding (~6 months)']: {missing_data_df_na_percentage:.2f}%\")"
   ]
  },
  {
   "cell_type": "code",
   "execution_count": null,
   "metadata": {},
   "outputs": [],
   "source": [
    "# Move non verifiable data to missing_data_df\n",
    "missing_data_df = pd.concat([missing_data_df, comp_out_df[comp_out_df['sic'].isna()]], ignore_index=True)\n",
    "missing_data_df = pd.concat([missing_data_df, comp_out_df[comp_out_df['% change in shares outstanding (~6 months)'].isna()]], ignore_index=True)\n",
    "\n",
    "comp_out_df = comp_out_df[~comp_out_df['sic'].isna()]\n",
    "comp_out_df = comp_out_df[~comp_out_df['% change in shares outstanding (~6 months)'].isna()]\n"
   ]
  },
  {
   "cell_type": "code",
   "execution_count": null,
   "metadata": {},
   "outputs": [],
   "source": [
    "# Only keep columns with positive change in shares outstanding \n",
    "comp_out_df = comp_out_df[comp_out_df['% change in shares outstanding (~6 months)'] > 0]\n",
    "comp_out_df = comp_out_df.sort_values(by=\"% change in shares outstanding (~6 months)\", ascending=False)\n",
    "comp_out_df[\"sic\"] = comp_out_df[\"sic\"].astype(int)"
   ]
  },
  {
   "cell_type": "markdown",
   "metadata": {},
   "source": [
    "#### Require market cap > 100mn"
   ]
  },
  {
   "cell_type": "code",
   "execution_count": null,
   "metadata": {},
   "outputs": [],
   "source": [
    "mcap_min = 1*(10**8)\n",
    "comp_out_df = comp_out_df[comp_out_df[\"Market Cap (USD)\"] > mcap_min]\n",
    "missing_data_df = missing_data_df[~(missing_data_df[\"Market Cap (USD)\"] < mcap_min)]"
   ]
  },
  {
   "cell_type": "code",
   "execution_count": null,
   "metadata": {},
   "outputs": [],
   "source": [
    "comp_out_df = comp_out_df.sort_values(by='Avg yearly OCF burn / Market Cap', ascending=True)"
   ]
  },
  {
   "cell_type": "code",
   "execution_count": null,
   "metadata": {},
   "outputs": [],
   "source": [
    "# Save back to Excel\n",
    "file_name = \"Updated Screening 19-07-2024.xlsx\"\n",
    "with pd.ExcelWriter(file_name, engine='openpyxl') as writer:\n",
    "    comp_out_df.to_excel(writer, sheet_name='Verified Companies', index=False)\n",
    "    missing_data_df.to_excel(writer, sheet_name='Companies with missing data', index=False)"
   ]
  }
 ],
 "metadata": {
  "kernelspec": {
   "display_name": "Python 3",
   "language": "python",
   "name": "python3"
  },
  "language_info": {
   "codemirror_mode": {
    "name": "ipython",
    "version": 3
   },
   "file_extension": ".py",
   "mimetype": "text/x-python",
   "name": "python",
   "nbconvert_exporter": "python",
   "pygments_lexer": "ipython3",
   "version": "3.11.3"
  }
 },
 "nbformat": 4,
 "nbformat_minor": 2
}
