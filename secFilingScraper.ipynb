{
 "cells": [
  {
   "cell_type": "markdown",
   "metadata": {},
   "source": [
    "### IMPORTS"
   ]
  },
  {
   "cell_type": "code",
   "execution_count": 1,
   "metadata": {},
   "outputs": [],
   "source": [
    "import ealib\n",
    "\n",
    "import yfinance as yf\n",
    "import logging\n",
    "import pandas as pd\n",
    "from collections import Counter\n",
    "import random\n",
    "from typing import Tuple"
   ]
  },
  {
   "cell_type": "code",
   "execution_count": 2,
   "metadata": {},
   "outputs": [],
   "source": [
    "# EDGAR API requires request header\n",
    "req_header = {\"User-Agent\": \"roberto.brera.24@outlook.com\"}"
   ]
  },
  {
   "cell_type": "markdown",
   "metadata": {},
   "source": [
    "### Logging tests/setup"
   ]
  },
  {
   "cell_type": "code",
   "execution_count": 3,
   "metadata": {},
   "outputs": [
    {
     "name": "stderr",
     "output_type": "stream",
     "text": [
      "2024-07-17 22:46:15,229 - INFO - logging info\n"
     ]
    }
   ],
   "source": [
    "logging.basicConfig(level=logging.INFO, format='%(asctime)s - %(levelname)s - %(message)s', force=True)\n",
    "logging.info(\"logging info\")"
   ]
  },
  {
   "cell_type": "markdown",
   "metadata": {},
   "source": [
    "### COMP TICKERS"
   ]
  },
  {
   "cell_type": "code",
   "execution_count": 4,
   "metadata": {},
   "outputs": [
    {
     "name": "stderr",
     "output_type": "stream",
     "text": [
      "2024-07-17 22:46:17,001 - INFO - Request to https://www.sec.gov/files/company_tickers.json returned successfully. Response code: 200\n"
     ]
    },
    {
     "data": {
      "text/html": [
       "<div>\n",
       "<style scoped>\n",
       "    .dataframe tbody tr th:only-of-type {\n",
       "        vertical-align: middle;\n",
       "    }\n",
       "\n",
       "    .dataframe tbody tr th {\n",
       "        vertical-align: top;\n",
       "    }\n",
       "\n",
       "    .dataframe thead th {\n",
       "        text-align: right;\n",
       "    }\n",
       "</style>\n",
       "<table border=\"1\" class=\"dataframe\">\n",
       "  <thead>\n",
       "    <tr style=\"text-align: right;\">\n",
       "      <th></th>\n",
       "      <th>cik_str</th>\n",
       "      <th>ticker</th>\n",
       "      <th>title</th>\n",
       "    </tr>\n",
       "  </thead>\n",
       "  <tbody>\n",
       "    <tr>\n",
       "      <th>0</th>\n",
       "      <td>0000320193</td>\n",
       "      <td>AAPL</td>\n",
       "      <td>Apple Inc.</td>\n",
       "    </tr>\n",
       "    <tr>\n",
       "      <th>1</th>\n",
       "      <td>0000789019</td>\n",
       "      <td>MSFT</td>\n",
       "      <td>MICROSOFT CORP</td>\n",
       "    </tr>\n",
       "    <tr>\n",
       "      <th>2</th>\n",
       "      <td>0001045810</td>\n",
       "      <td>NVDA</td>\n",
       "      <td>NVIDIA CORP</td>\n",
       "    </tr>\n",
       "    <tr>\n",
       "      <th>3</th>\n",
       "      <td>0001652044</td>\n",
       "      <td>GOOGL</td>\n",
       "      <td>Alphabet Inc.</td>\n",
       "    </tr>\n",
       "    <tr>\n",
       "      <th>4</th>\n",
       "      <td>0001018724</td>\n",
       "      <td>AMZN</td>\n",
       "      <td>AMAZON COM INC</td>\n",
       "    </tr>\n",
       "  </tbody>\n",
       "</table>\n",
       "</div>"
      ],
      "text/plain": [
       "      cik_str ticker           title\n",
       "0  0000320193   AAPL      Apple Inc.\n",
       "1  0000789019   MSFT  MICROSOFT CORP\n",
       "2  0001045810   NVDA     NVIDIA CORP\n",
       "3  0001652044  GOOGL   Alphabet Inc.\n",
       "4  0001018724   AMZN  AMAZON COM INC"
      ]
     },
     "execution_count": 4,
     "metadata": {},
     "output_type": "execute_result"
    }
   ],
   "source": [
    "# Dictionary to pandas dataframe\n",
    "tickers_df = ealib.get_tickers_df(req_header)\n",
    "tickers_df.head()"
   ]
  },
  {
   "cell_type": "code",
   "execution_count": null,
   "metadata": {},
   "outputs": [],
   "source": [
    "# Examples on searches performable on this dataframe\n",
    "tickers_df.iloc[133]\n",
    "tickers_df[tickers_df[\"ticker\"] == \"NVDA\"]\n",
    "tickers_df[0:4]"
   ]
  },
  {
   "cell_type": "code",
   "execution_count": null,
   "metadata": {},
   "outputs": [],
   "source": [
    "# Search func examples\n",
    "ealib.find_ticker(tickers_df, \"NVDA\")[\"cik_str\"].iloc[0]\n",
    "\n",
    "# Random companies\n",
    "tickers_df.iloc[97:111]"
   ]
  },
  {
   "cell_type": "code",
   "execution_count": null,
   "metadata": {},
   "outputs": [],
   "source": [
    "ealib.find_title_substring(tickers_df, \"morgan\")"
   ]
  },
  {
   "cell_type": "markdown",
   "metadata": {},
   "source": [
    "### COMP METADATA"
   ]
  },
  {
   "cell_type": "code",
   "execution_count": null,
   "metadata": {},
   "outputs": [],
   "source": [
    "# Find cik for some company given name substring\n",
    "query_substr =  \"gamestop\"\n",
    "query_ticker = ealib.find_title_substring(tickers_df, query_substr)\n",
    "query_ticker"
   ]
  },
  {
   "cell_type": "markdown",
   "metadata": {},
   "source": [
    "### Scraping select document types for a company in the tickers dataframe"
   ]
  },
  {
   "cell_type": "code",
   "execution_count": null,
   "metadata": {},
   "outputs": [],
   "source": [
    "# Main parameter setting and fucntion call\n",
    "comp_out_df = ealib.download_select_filings(\n",
    "    req_header=req_header, \n",
    "    mrps = 8, \n",
    "    tickers_df = tickers_df[6000:], \n",
    "    root_dir = f\"Recent SEC filings for ATMs\", \n",
    "    query_forms = [\"424B5\", \"S-3\"], \n",
    "    max_days = 180, \n",
    "    write_txt=False, \n",
    "    write_pdf=True \n",
    ")\n",
    "\n",
    "comp_out_df"
   ]
  },
  {
   "cell_type": "markdown",
   "metadata": {},
   "source": [
    "### Debugging section"
   ]
  },
  {
   "cell_type": "code",
   "execution_count": null,
   "metadata": {},
   "outputs": [],
   "source": [
    "query_substr =  \"sharplink\"\n",
    "query_ticker = ealib.find_title_substring(tickers_df, query_substr)\n",
    "query_ticker"
   ]
  },
  {
   "cell_type": "markdown",
   "metadata": {},
   "source": [
    "### Filtering: Ticker df (yfinance, e.g. marketCap)"
   ]
  },
  {
   "cell_type": "code",
   "execution_count": null,
   "metadata": {},
   "outputs": [],
   "source": [
    "# Suppose we are iterating through tickers_df\n",
    "curr_ticker = tickers_df.iloc[6849]\n",
    "curr_yticker = yf.Ticker(curr_ticker[\"ticker\"])"
   ]
  },
  {
   "cell_type": "code",
   "execution_count": null,
   "metadata": {},
   "outputs": [],
   "source": [
    "# Search for particular info\n",
    "query_info = \"cap\"\n",
    "ealib.find_dict_key_substr(curr_yticker.info, query_info)"
   ]
  },
  {
   "cell_type": "code",
   "execution_count": null,
   "metadata": {},
   "outputs": [],
   "source": [
    "# Compute yfinance metric for entire ticker_df\n",
    "def yf_info(ticker_str, query_info):\n",
    "    \"\"\"\n",
    "    Wrapper function to handle keys-not-found errors,\n",
    "    and usable with lambda to .apply() to whole series\n",
    "    \"\"\"\n",
    "    ticker_info = yf.Ticker(ticker_str).info\n",
    "    if query_info not in ticker_info:\n",
    "        return pd.NA\n",
    "    return ticker_info [query_info]\n",
    "\n",
    "# Example using market cap\n",
    "query_info = \"marketCap\"\n",
    "info_series = tickers_df[:1000][\"ticker\"].apply(lambda x: yf_info(x, query_info))\n",
    "\n",
    "# How many nans have we got?\n",
    "info_series.isna().sum()"
   ]
  },
  {
   "cell_type": "code",
   "execution_count": null,
   "metadata": {},
   "outputs": [],
   "source": [
    "# Now apply filtering\n",
    "market_cap_threshhold = 15*(10**9)\n",
    "mask = info_series < market_cap_threshhold\n",
    "filtered_series = info_series[mask]\n",
    "\n",
    "# How many?\n",
    "mask.sum()"
   ]
  },
  {
   "cell_type": "code",
   "execution_count": null,
   "metadata": {},
   "outputs": [],
   "source": [
    "# Check other yfinance info, to then compare with SEC\n",
    "query_info = \"operating\"\n",
    "ealib.find_dict_key_substr(curr_yticker.info, query_info)"
   ]
  },
  {
   "cell_type": "code",
   "execution_count": null,
   "metadata": {},
   "outputs": [],
   "source": [
    "query_info = \"price\"\n",
    "ealib.find_dict_key_substr(curr_yticker.info, query_info)"
   ]
  },
  {
   "cell_type": "markdown",
   "metadata": {},
   "source": [
    "### Filtering: Ticker df req--> Comp mtd (e.g. filing)"
   ]
  },
  {
   "cell_type": "code",
   "execution_count": null,
   "metadata": {},
   "outputs": [],
   "source": [
    "# Suppose we are iterating through tickers_df\n",
    "curr_ticker = tickers_df.iloc[6849]\n",
    "curr_ticker"
   ]
  },
  {
   "cell_type": "code",
   "execution_count": null,
   "metadata": {},
   "outputs": [],
   "source": [
    "# REQUEST the company dataframe for the iterator ticker\n",
    "curr_cik = curr_ticker[\"cik_str\"] \n",
    "curr_comp_mtd = ealib.get_response_dict(ealib.metadata_url(curr_cik), req_header, mrps=1)\n",
    "\n",
    "# Extract filing information into dataframe\n",
    "curr_filings_df = pd.DataFrame.from_dict(curr_comp_mtd[\"filings\"][\"recent\"])\n",
    "\n",
    "# Filter the filings for this specific ticker, and for specific filing query \n",
    "query_forms = [\"424B5\", \"S-3\"]\n",
    "max_days = 180\n",
    "curr_select_filings = ealib.filter_filings(curr_filings_df, \"filingDate\", \"form\", query_forms, max_days)\n",
    "\n",
    "# If we find no filings, then the company is excluded\n",
    "curr_select_filings.empty"
   ]
  },
  {
   "cell_type": "markdown",
   "metadata": {},
   "source": [
    "### Filtering: Ticker df req--> Company Fact (e.g. oper. cash flow)"
   ]
  },
  {
   "cell_type": "code",
   "execution_count": null,
   "metadata": {},
   "outputs": [],
   "source": [
    "# Suppose we are iterating through tickers_df\n",
    "curr_ticker = tickers_df.iloc[2098]\n",
    "curr_ticker"
   ]
  },
  {
   "cell_type": "code",
   "execution_count": null,
   "metadata": {},
   "outputs": [],
   "source": [
    "# Request company facts dictionary\n",
    "curr_cik = curr_ticker[\"cik_str\"]\n",
    "\"\"\"\n",
    "TODO: Handle failure for this and other similar requests:\n",
    "\"\"\"\n",
    "comp_facts = ealib.get_response_dict(ealib.companyfacts_url(curr_cik), req_header, mrps=1)"
   ]
  },
  {
   "cell_type": "code",
   "execution_count": null,
   "metadata": {},
   "outputs": [],
   "source": [
    "# What is the right subdictionary?\n",
    "\"\"\" Most common facts entries by far:\n",
    "[\"facts\"][\"ifrs-full\"]\n",
    "[\"facts\"][\"us-gaap\"]\n",
    "\"\"\"\n",
    "comp_facts_subdict = comp_facts[\"facts\"][\"us-gaap\"]\n",
    "comp_facts_subdict"
   ]
  },
  {
   "cell_type": "code",
   "execution_count": null,
   "metadata": {},
   "outputs": [],
   "source": [
    "# Script to count different company facts subdictionary entries\n",
    "tot_tickers = 1000\n",
    "start_ticker = 8080\n",
    "keys_counter = Counter()\n",
    "index_dict = {}\n",
    "for index, row in tickers_df[start_ticker:start_ticker + tot_tickers].iterrows():\n",
    "    \"\"\" \n",
    "    IMPORTANT: Always handle None returns i.e. unsuccessful requests\n",
    "    \"\"\"\n",
    "    cfacts = ealib.get_response_dict(ealib.companyfacts_url(row[\"cik_str\"]), req_header, mrps=8)\n",
    "    if cfacts == None:\n",
    "        keys_counter[\"FAILED_REQS\"] += 1\n",
    "        index_dict[\"FAILED_REQS\"] = index\n",
    "        continue\n",
    "    for key in cfacts[\"facts\"].keys():\n",
    "        keys_counter[key] += 1\n",
    "        index_dict[key] = index\n",
    "\n",
    "print(keys_counter)\n",
    "print(index_dict)\n",
    "print(f'tot_tickers = {tot_tickers}')\n",
    "print(f'us-gaap + ifrs + failed reqs = {keys_counter[\"FAILED_REQS\"] + keys_counter[\"us-gaap\"] + keys_counter[\"ifrs-full\"]}')\n"
   ]
  },
  {
   "cell_type": "code",
   "execution_count": null,
   "metadata": {},
   "outputs": [],
   "source": [
    "# Testing of abstracted Overall function to get a company fact dataframe from an arbitrary ticker\n",
    "num_tests = 1000\n",
    "none_rets = 0\n",
    "for _ in range(num_tests):\n",
    "    random_number = random.randint(1, 10000)\n",
    "    res = ealib.company_fact_df(\n",
    "        tickers_df.iloc[random_number], \n",
    "        [\"us-gaap\", \"ifrs-full\"], \n",
    "        [\"NetCashProvidedByUsedInOperatingActivities\", \"CashFlowsFromUsedInOperatingActivities\"], \n",
    "        True,\n",
    "        req_header, \n",
    "        8\n",
    "    )\n",
    "    # Unpack defensively\n",
    "    if res is not None:\n",
    "        res_units, selected_fact, res_df = res\n",
    "        logging.info(f'company_fact_df selected fact: {selected_fact}')\n",
    "        \"\"\"\n",
    "        print(f'res_units = {res_units}')\n",
    "        print(res_df)\n",
    "        \"\"\"\n",
    "    else:\n",
    "        none_rets += 1\n",
    "\n",
    "print(f'{none_rets} none returns out of {num_tests} tests')"
   ]
  },
  {
   "cell_type": "markdown",
   "metadata": {},
   "source": [
    "#### Calculating cash burn rate"
   ]
  },
  {
   "cell_type": "code",
   "execution_count": null,
   "metadata": {},
   "outputs": [],
   "source": [
    "# Suppose we are iterating through tickers_df\n",
    "curr_ticker = tickers_df.iloc[3]\n",
    "curr_ticker"
   ]
  },
  {
   "cell_type": "code",
   "execution_count": null,
   "metadata": {},
   "outputs": [],
   "source": [
    "# Get the dataframe for some metric\n",
    "unit, selected_comp_fact, ocf_df = ealib.company_fact_df(\n",
    "    curr_ticker, \n",
    "    [\"us-gaap\", \"ifrs-full\"], \n",
    "    [\"NetCashProvidedByUsedInOperatingActivities\", \"CashFlowsFromUsedInOperatingActivities\"], \n",
    "    True,\n",
    "    req_header, \n",
    "    8\n",
    ")\n",
    "\n",
    "ocf_df"
   ]
  },
  {
   "cell_type": "code",
   "execution_count": null,
   "metadata": {},
   "outputs": [],
   "source": [
    "filing_date_col = \"filed\"\n",
    "form_col = \"form\"\n",
    "max_days = 180  # in days\n",
    "\n",
    "# Use filtering function to filter recent filings and sort list\n",
    "ocf_df_filt = ealib.filter_filings(ocf_df, filing_date_col, form_col, [\"\"], max_days)\n",
    "ocf_df_filt"
   ]
  },
  {
   "cell_type": "code",
   "execution_count": null,
   "metadata": {},
   "outputs": [],
   "source": [
    "ealib.ocf_average_daily_burn_rate(ocf_df_filt)"
   ]
  },
  {
   "cell_type": "markdown",
   "metadata": {},
   "source": [
    "### COMPANY FACTS"
   ]
  },
  {
   "cell_type": "code",
   "execution_count": null,
   "metadata": {},
   "outputs": [],
   "source": [
    "comp_facts = ealib.get_response_dict(ealib.companyfacts_url(query_cik), req_header, mrps=mrps)\n",
    "us_gaap_facts_dict = comp_facts[\"facts\"][\"us-gaap\"]\n",
    "us_gaap_facts_dict.keys()"
   ]
  },
  {
   "cell_type": "code",
   "execution_count": null,
   "metadata": {},
   "outputs": [],
   "source": [
    "comp_facts[\"facts\"][\"dei\"].keys()"
   ]
  },
  {
   "cell_type": "code",
   "execution_count": null,
   "metadata": {},
   "outputs": [],
   "source": [
    "\"\"\"\n",
    "Shares outstanding\n",
    "\"\"\"\n",
    "pd.DataFrame(comp_facts[\"facts\"][\"dei\"][\"EntityCommonStockSharesOutstanding\"][\"units\"][\"shares\"])"
   ]
  },
  {
   "cell_type": "code",
   "execution_count": null,
   "metadata": {},
   "outputs": [],
   "source": [
    "\n",
    "\"\"\"\n",
    "Market cap (proxy)\n",
    "\"\"\"\n",
    "pd.DataFrame(comp_facts[\"facts\"][\"dei\"][\"EntityPublicFloat\"][\"units\"][\"USD\"])"
   ]
  },
  {
   "cell_type": "code",
   "execution_count": null,
   "metadata": {},
   "outputs": [],
   "source": [
    "\n",
    "test_qr_substr = \"stock\"\n",
    "filtered_keys = find_dict_key_substr(us_gaap_facts_dict, test_qr_substr)\n",
    "\n",
    "\"\"\"\n",
    "sub_dict = {key: us_gaap_facts_dict[key] for key in filtered_keys if key in us_gaap_facts_dict}\n",
    "\"\"\"\n",
    "filtered_keys"
   ]
  },
  {
   "cell_type": "code",
   "execution_count": null,
   "metadata": {},
   "outputs": [],
   "source": [
    "us_gaap_facts_dict[\"CommonStockValue\"][\"units\"][\"USD\"]"
   ]
  },
  {
   "cell_type": "code",
   "execution_count": null,
   "metadata": {},
   "outputs": [],
   "source": [
    "# Convert to pd data frame\n",
    "pd.DataFrame(us_gaap_facts_dict[\"CommonStockValue\"][\"units\"][\"USD\"])"
   ]
  },
  {
   "cell_type": "markdown",
   "metadata": {},
   "source": [
    "### COMPANY CONCEPT"
   ]
  },
  {
   "cell_type": "code",
   "execution_count": null,
   "metadata": {},
   "outputs": [],
   "source": [
    "rev_concept = ealib.get_response_dict(\n",
    "    ealib.companyconcept_url(query_cik, \"/us-gaap/Revenues\"), \n",
    "    req_header,\n",
    "    mrps=mrps\n",
    ")\n",
    "\n",
    "# Coincides with company facts request\n",
    "pd.DataFrame(rev_concept[\"units\"][\"USD\"])"
   ]
  }
 ],
 "metadata": {
  "kernelspec": {
   "display_name": "Python 3",
   "language": "python",
   "name": "python3"
  },
  "language_info": {
   "codemirror_mode": {
    "name": "ipython",
    "version": 3
   },
   "file_extension": ".py",
   "mimetype": "text/x-python",
   "name": "python",
   "nbconvert_exporter": "python",
   "pygments_lexer": "ipython3",
   "version": "3.11.3"
  }
 },
 "nbformat": 4,
 "nbformat_minor": 2
}
