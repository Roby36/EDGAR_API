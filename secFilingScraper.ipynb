{
 "cells": [
  {
   "cell_type": "markdown",
   "metadata": {},
   "source": [
    "### IMPORTS"
   ]
  },
  {
   "cell_type": "code",
   "execution_count": 6,
   "metadata": {},
   "outputs": [],
   "source": [
    "import ealib\n",
    "\n",
    "import logging\n",
    "import pandas as pd\n",
    "from collections import Counter\n",
    "import random\n",
    "from typing import Tuple\n",
    "import yfinance as yf"
   ]
  },
  {
   "cell_type": "code",
   "execution_count": 7,
   "metadata": {},
   "outputs": [],
   "source": [
    "# EDGAR API requires request header\n",
    "req_header = {\"User-Agent\": \"roberto.brera.24@outlook.com\"}"
   ]
  },
  {
   "cell_type": "markdown",
   "metadata": {},
   "source": [
    "### Logging tests/setup"
   ]
  },
  {
   "cell_type": "code",
   "execution_count": 8,
   "metadata": {},
   "outputs": [
    {
     "name": "stderr",
     "output_type": "stream",
     "text": [
      "2024-07-18 14:08:15,200 - INFO - logging info\n"
     ]
    }
   ],
   "source": [
    "logging.basicConfig(level=logging.INFO, format='%(asctime)s - %(levelname)s - %(message)s', force=True)\n",
    "logging.info(\"logging info\")"
   ]
  },
  {
   "cell_type": "markdown",
   "metadata": {},
   "source": [
    "### COMP TICKERS"
   ]
  },
  {
   "cell_type": "code",
   "execution_count": 9,
   "metadata": {},
   "outputs": [
    {
     "name": "stderr",
     "output_type": "stream",
     "text": [
      "2024-07-18 14:08:17,355 - INFO - Request to https://www.sec.gov/files/company_tickers.json returned successfully. Response code: 200\n"
     ]
    },
    {
     "data": {
      "text/html": [
       "<div>\n",
       "<style scoped>\n",
       "    .dataframe tbody tr th:only-of-type {\n",
       "        vertical-align: middle;\n",
       "    }\n",
       "\n",
       "    .dataframe tbody tr th {\n",
       "        vertical-align: top;\n",
       "    }\n",
       "\n",
       "    .dataframe thead th {\n",
       "        text-align: right;\n",
       "    }\n",
       "</style>\n",
       "<table border=\"1\" class=\"dataframe\">\n",
       "  <thead>\n",
       "    <tr style=\"text-align: right;\">\n",
       "      <th></th>\n",
       "      <th>cik_str</th>\n",
       "      <th>ticker</th>\n",
       "      <th>title</th>\n",
       "    </tr>\n",
       "  </thead>\n",
       "  <tbody>\n",
       "    <tr>\n",
       "      <th>0</th>\n",
       "      <td>0000320193</td>\n",
       "      <td>AAPL</td>\n",
       "      <td>Apple Inc.</td>\n",
       "    </tr>\n",
       "    <tr>\n",
       "      <th>1</th>\n",
       "      <td>0000789019</td>\n",
       "      <td>MSFT</td>\n",
       "      <td>MICROSOFT CORP</td>\n",
       "    </tr>\n",
       "    <tr>\n",
       "      <th>2</th>\n",
       "      <td>0001045810</td>\n",
       "      <td>NVDA</td>\n",
       "      <td>NVIDIA CORP</td>\n",
       "    </tr>\n",
       "    <tr>\n",
       "      <th>3</th>\n",
       "      <td>0001652044</td>\n",
       "      <td>GOOGL</td>\n",
       "      <td>Alphabet Inc.</td>\n",
       "    </tr>\n",
       "    <tr>\n",
       "      <th>4</th>\n",
       "      <td>0001018724</td>\n",
       "      <td>AMZN</td>\n",
       "      <td>AMAZON COM INC</td>\n",
       "    </tr>\n",
       "  </tbody>\n",
       "</table>\n",
       "</div>"
      ],
      "text/plain": [
       "      cik_str ticker           title\n",
       "0  0000320193   AAPL      Apple Inc.\n",
       "1  0000789019   MSFT  MICROSOFT CORP\n",
       "2  0001045810   NVDA     NVIDIA CORP\n",
       "3  0001652044  GOOGL   Alphabet Inc.\n",
       "4  0001018724   AMZN  AMAZON COM INC"
      ]
     },
     "execution_count": 9,
     "metadata": {},
     "output_type": "execute_result"
    }
   ],
   "source": [
    "# Dictionary to pandas dataframe\n",
    "tickers_df = ealib.get_tickers_df(req_header)\n",
    "tickers_df.head()"
   ]
  },
  {
   "cell_type": "code",
   "execution_count": null,
   "metadata": {},
   "outputs": [],
   "source": [
    "# Examples on searches performable on this dataframe\n",
    "tickers_df.iloc[133]\n",
    "tickers_df[tickers_df[\"ticker\"] == \"NVDA\"]\n",
    "tickers_df[0:4]"
   ]
  },
  {
   "cell_type": "code",
   "execution_count": null,
   "metadata": {},
   "outputs": [],
   "source": [
    "# Search func examples\n",
    "ealib.find_ticker(tickers_df, \"NVDA\")[\"cik_str\"].iloc[0]\n",
    "\n",
    "# Random companies\n",
    "tickers_df.iloc[97:111]"
   ]
  },
  {
   "cell_type": "code",
   "execution_count": null,
   "metadata": {},
   "outputs": [],
   "source": [
    "ealib.find_title_substring(tickers_df, \"morgan\")"
   ]
  },
  {
   "cell_type": "markdown",
   "metadata": {},
   "source": [
    "### COMP METADATA"
   ]
  },
  {
   "cell_type": "code",
   "execution_count": null,
   "metadata": {},
   "outputs": [],
   "source": [
    "# Find cik for some company given name substring\n",
    "query_substr =  \"gamestop\"\n",
    "query_ticker = ealib.find_title_substring(tickers_df, query_substr)\n",
    "query_ticker"
   ]
  },
  {
   "cell_type": "markdown",
   "metadata": {},
   "source": [
    "### Filtering: Ticker df (yfinance, e.g. marketCap)"
   ]
  },
  {
   "cell_type": "code",
   "execution_count": null,
   "metadata": {},
   "outputs": [],
   "source": [
    "# Suppose we are iterating through tickers_df\n",
    "curr_ticker = tickers_df.iloc[10]\n",
    "curr_yticker = yf.Ticker(curr_ticker[\"ticker\"])"
   ]
  },
  {
   "cell_type": "code",
   "execution_count": null,
   "metadata": {},
   "outputs": [],
   "source": [
    "# Search for particular info keys\n",
    "ealib.find_dict_key_substr(curr_yticker.info, [\"cap\"])\n",
    "ealib.find_dict_key_substr(curr_yticker.info, [\"currency\"])\n",
    "\n",
    "# Check other yfinance info, to then compare with SEC\n",
    "ealib.find_keys_containing_all_substrs(curr_yticker.info, [\"cash\", \"operating\"])"
   ]
  },
  {
   "cell_type": "code",
   "execution_count": null,
   "metadata": {},
   "outputs": [],
   "source": [
    "# Search for the information, returning NA is not found\n",
    "ealib.yf_info(curr_ticker[\"ticker\"], \"marketCap\")\n",
    "ealib.yf_info(curr_ticker[\"ticker\"], \"currency\")"
   ]
  },
  {
   "cell_type": "code",
   "execution_count": null,
   "metadata": {},
   "outputs": [],
   "source": [
    "# Generate info series for a df of tickers\n",
    "marketCap_series = tickers_df[:10][\"ticker\"].apply(lambda x: ealib.yf_info(x, \"marketCap\"))\n",
    "\n",
    "# How many nans have we got?\n",
    "marketCap_series.isna().sum()"
   ]
  },
  {
   "cell_type": "code",
   "execution_count": null,
   "metadata": {},
   "outputs": [],
   "source": [
    "# Now apply filtering\n",
    "market_cap_threshhold = 15*(10**9)\n",
    "mask = marketCap_series < market_cap_threshhold\n",
    "filtered_series = marketCap_series[mask]\n",
    "\n",
    "# How many?\n",
    "mask.sum()"
   ]
  },
  {
   "cell_type": "markdown",
   "metadata": {},
   "source": [
    "### Filtering: Ticker df req--> Comp mtd (e.g. filing)"
   ]
  },
  {
   "cell_type": "markdown",
   "metadata": {},
   "source": [
    "#### This functionality already implemented in donload_select_filings"
   ]
  },
  {
   "cell_type": "code",
   "execution_count": null,
   "metadata": {},
   "outputs": [],
   "source": [
    "# Suppose we are iterating through tickers_df\n",
    "curr_ticker = tickers_df.iloc[6849]\n",
    "curr_ticker"
   ]
  },
  {
   "cell_type": "code",
   "execution_count": null,
   "metadata": {},
   "outputs": [],
   "source": [
    "# REQUEST the company dataframe for the iterator ticker\n",
    "curr_comp_mtd = ealib.get_response_dict(ealib.metadata_url(curr_ticker[\"cik_str\"] ), req_header, mrps=1)\n",
    "\n",
    "# Extract filing information into dataframe\n",
    "if not curr_comp_mtd or not curr_comp_mtd.get(\"filings\") or not curr_comp_mtd.get(\"filings\", {}).get(\"recent\"):\n",
    "    logging.warning(f'Could not find comp_mtd[\"filings\"][\"recent\"] dictionary for {curr_ticker[\"ticker\"]}')\n",
    "curr_filings_df = pd.DataFrame.from_dict(curr_comp_mtd[\"filings\"][\"recent\"])\n",
    "curr_filings_df"
   ]
  },
  {
   "cell_type": "code",
   "execution_count": null,
   "metadata": {},
   "outputs": [],
   "source": [
    "# Filter the filings for this specific ticker, and for specific filing query \n",
    "query_forms = [\"424B5\", \"S-3\"]\n",
    "max_days = 180\n",
    "curr_select_filings = ealib.filter_filings(curr_filings_df, \"filingDate\", \"form\", query_forms, max_days)\n",
    "\n",
    "# If we find no filings, then the company is excluded\n",
    "curr_select_filings.empty"
   ]
  },
  {
   "cell_type": "markdown",
   "metadata": {},
   "source": [
    "### Filtering: Ticker df req--> Company Fact (e.g. oper. cash flow)"
   ]
  },
  {
   "cell_type": "code",
   "execution_count": null,
   "metadata": {},
   "outputs": [],
   "source": [
    "# Suppose we are iterating through tickers_df\n",
    "curr_ticker = tickers_df.iloc[2098]\n",
    "curr_ticker"
   ]
  },
  {
   "cell_type": "code",
   "execution_count": null,
   "metadata": {},
   "outputs": [],
   "source": [
    "# Request company facts dictionary\n",
    "\"\"\"\n",
    "TODO: Handle failure for this and other similar requests (handled in company_facts_df)\n",
    "\"\"\"\n",
    "comp_facts = ealib.get_response_dict(ealib.companyfacts_url(curr_ticker[\"cik_str\"]), req_header, mrps=1)"
   ]
  },
  {
   "cell_type": "code",
   "execution_count": null,
   "metadata": {},
   "outputs": [],
   "source": [
    "# What is the right subdictionary?\n",
    "\"\"\" Most common facts entries by far:\n",
    "[\"facts\"][\"ifrs-full\"]\n",
    "[\"facts\"][\"us-gaap\"]\n",
    "\"\"\"\n",
    "comp_facts_subdict = comp_facts[\"facts\"][\"us-gaap\"]\n",
    "comp_facts_subdict"
   ]
  },
  {
   "cell_type": "code",
   "execution_count": null,
   "metadata": {},
   "outputs": [],
   "source": [
    "# Script to count different company facts subdictionary entries\n",
    "tot_tickers = 1000\n",
    "start_ticker = 8080\n",
    "keys_counter = Counter()\n",
    "index_dict = {}\n",
    "for index, row in tickers_df[start_ticker:start_ticker + tot_tickers].iterrows():\n",
    "    \"\"\" \n",
    "    IMPORTANT: Always handle None returns i.e. unsuccessful requests\n",
    "    \"\"\"\n",
    "    cfacts = ealib.get_response_dict(ealib.companyfacts_url(row[\"cik_str\"]), req_header, mrps=8)\n",
    "    if cfacts == None:\n",
    "        keys_counter[\"FAILED_REQS\"] += 1\n",
    "        index_dict[\"FAILED_REQS\"] = index\n",
    "        continue\n",
    "    for key in cfacts[\"facts\"].keys():\n",
    "        keys_counter[key] += 1\n",
    "        index_dict[key] = index\n",
    "\n",
    "print(keys_counter)\n",
    "print(index_dict)\n",
    "print(f'tot_tickers = {tot_tickers}')\n",
    "print(f'us-gaap + ifrs + failed reqs = {keys_counter[\"FAILED_REQS\"] + keys_counter[\"us-gaap\"] + keys_counter[\"ifrs-full\"]}')\n"
   ]
  },
  {
   "cell_type": "code",
   "execution_count": null,
   "metadata": {},
   "outputs": [],
   "source": [
    "# Testing of abstracted Overall function to get a company fact dataframe from an arbitrary ticker\n",
    "num_tests = 1000\n",
    "none_rets = 0\n",
    "for _ in range(num_tests):\n",
    "    random_number = random.randint(1, 10000)\n",
    "    res = ealib.company_fact_df(\n",
    "        tickers_df.iloc[random_number],\n",
    "        [\"us-gaap\", \"ifrs-full\"],\n",
    "        [\"NetCashProvidedByUsedInOperatingActivities\", \"CashFlowsFromUsedInOperatingActivities\"], \n",
    "        True,\n",
    "        req_header, \n",
    "        8\n",
    "    )\n",
    "    # Unpack defensively\n",
    "    if res is not None:\n",
    "        res_units, selected_fact, res_df = res\n",
    "        logging.info(f'company_fact_df selected fact: {selected_fact}')\n",
    "        \"\"\"\n",
    "        print(f'res_units = {res_units}')\n",
    "        print(res_df)\n",
    "        \"\"\"\n",
    "    else:\n",
    "        none_rets += 1\n",
    "\n",
    "print(f'{none_rets} none returns out of {num_tests} tests')"
   ]
  },
  {
   "cell_type": "markdown",
   "metadata": {},
   "source": [
    "### Calculating cash burn rate"
   ]
  },
  {
   "cell_type": "code",
   "execution_count": null,
   "metadata": {},
   "outputs": [],
   "source": [
    "# Suppose we are iterating through tickers_df\n",
    "curr_ticker = tickers_df.iloc[6666]\n",
    "curr_ticker"
   ]
  },
  {
   "cell_type": "code",
   "execution_count": null,
   "metadata": {},
   "outputs": [],
   "source": [
    "# Get the dataframe for some metric\n",
    "unit, selected_comp_fact, ocf_df = ealib.company_fact_df(\n",
    "    curr_ticker, \n",
    "    [\"us-gaap\", \"ifrs-full\"], \n",
    "    [\"NetCashProvidedByUsedInOperatingActivities\", \"CashFlowsFromUsedInOperatingActivities\"], \n",
    "    True,\n",
    "    req_header, \n",
    "    8\n",
    ")\n",
    "\n",
    "ocf_df"
   ]
  },
  {
   "cell_type": "markdown",
   "metadata": {},
   "source": [
    "#### filing date column \"filed\" vs \"end\""
   ]
  },
  {
   "cell_type": "code",
   "execution_count": null,
   "metadata": {},
   "outputs": [],
   "source": [
    "# Use filtering function to filter recent filings and sort list\n",
    "max_days = 180\n",
    "ocf_df_filt = ealib.filter_filings(ocf_df, filing_date_col=\"filed\", form_col=\"form\", query_forms=[\"\"], max_days=max_days)\n",
    "ocf_df_filt"
   ]
  },
  {
   "cell_type": "code",
   "execution_count": null,
   "metadata": {},
   "outputs": [],
   "source": [
    "# Finally calculate cash burn rate (expected negative)\n",
    "ealib.ocf_average_daily_burn_rate(ocf_df_filt)"
   ]
  },
  {
   "cell_type": "markdown",
   "metadata": {},
   "source": [
    "### Converting between currencies"
   ]
  },
  {
   "cell_type": "code",
   "execution_count": null,
   "metadata": {},
   "outputs": [],
   "source": [
    "from_currency = \"USD\"\n",
    "to_currency = \"USD\"\n",
    "forex_ticker =  f\"{from_currency}{to_currency}=X\"\n",
    "\n",
    "ealib.yf_info(forex_ticker, \"previousClose\")"
   ]
  },
  {
   "cell_type": "markdown",
   "metadata": {},
   "source": [
    "## Overall filtering function"
   ]
  },
  {
   "cell_type": "code",
   "execution_count": null,
   "metadata": {},
   "outputs": [],
   "source": [
    "# Main parameter setting and fucntion call\n",
    "comp_out_df, missing_data_df = ealib.screen_select_companies(\n",
    "    # general parameters:\n",
    "        req_header=req_header, \n",
    "        mrps=8, \n",
    "        tickers_df=tickers_df[9999:], \n",
    "        root_dir=\"Selected filings\", \n",
    "    # filtering parameters:\n",
    "        query_forms = [\"424B5\", \"S-3\"], \n",
    "        max_days = 180, \n",
    "        max_market_cap = 15*(10**9), \n",
    "        max_ocf_daily_burn_rate = 0, \n",
    "        ocf_max_days = 180, \n",
    "        ocf_filing_date_col = \"filed\",\n",
    "    # download parameters:\n",
    "        out_df_sort_key = \"Avg yearly OCF burn / Market Cap\", \n",
    "        write_txt = False, \n",
    "        write_pdf = True\n",
    ")"
   ]
  },
  {
   "cell_type": "code",
   "execution_count": null,
   "metadata": {},
   "outputs": [],
   "source": [
    "# Debugging box"
   ]
  },
  {
   "cell_type": "code",
   "execution_count": 11,
   "metadata": {},
   "outputs": [
    {
     "data": {
      "text/html": [
       "<div>\n",
       "<style scoped>\n",
       "    .dataframe tbody tr th:only-of-type {\n",
       "        vertical-align: middle;\n",
       "    }\n",
       "\n",
       "    .dataframe tbody tr th {\n",
       "        vertical-align: top;\n",
       "    }\n",
       "\n",
       "    .dataframe thead th {\n",
       "        text-align: right;\n",
       "    }\n",
       "</style>\n",
       "<table border=\"1\" class=\"dataframe\">\n",
       "  <thead>\n",
       "    <tr style=\"text-align: right;\">\n",
       "      <th></th>\n",
       "    </tr>\n",
       "  </thead>\n",
       "  <tbody>\n",
       "  </tbody>\n",
       "</table>\n",
       "</div>"
      ],
      "text/plain": [
       "Empty DataFrame\n",
       "Columns: []\n",
       "Index: []"
      ]
     },
     "execution_count": 11,
     "metadata": {},
     "output_type": "execute_result"
    }
   ],
   "source": [
    "# Render dataframes\n",
    "comp_out_df"
   ]
  },
  {
   "cell_type": "code",
   "execution_count": 12,
   "metadata": {},
   "outputs": [
    {
     "data": {
      "text/html": [
       "<div>\n",
       "<style scoped>\n",
       "    .dataframe tbody tr th:only-of-type {\n",
       "        vertical-align: middle;\n",
       "    }\n",
       "\n",
       "    .dataframe tbody tr th {\n",
       "        vertical-align: top;\n",
       "    }\n",
       "\n",
       "    .dataframe thead th {\n",
       "        text-align: right;\n",
       "    }\n",
       "</style>\n",
       "<table border=\"1\" class=\"dataframe\">\n",
       "  <thead>\n",
       "    <tr style=\"text-align: right;\">\n",
       "      <th></th>\n",
       "      <th>Company name</th>\n",
       "      <th>OCF Currency</th>\n",
       "      <th>OCF Name</th>\n",
       "      <th>Avg daily OCF burn</th>\n",
       "      <th>USD Avg daily OCF burn</th>\n",
       "      <th>Market Cap</th>\n",
       "      <th>Market Cap Currency</th>\n",
       "      <th>CIQ ticker</th>\n",
       "    </tr>\n",
       "  </thead>\n",
       "  <tbody>\n",
       "    <tr>\n",
       "      <th>0</th>\n",
       "      <td>U.S. GoldMining Inc.</td>\n",
       "      <td>USD</td>\n",
       "      <td>NetCashProvidedByUsedInOperatingActivities</td>\n",
       "      <td>-10183.166172</td>\n",
       "      <td>-10183.166172</td>\n",
       "      <td>None</td>\n",
       "      <td>USD</td>\n",
       "      <td>Nasdaq:USGO</td>\n",
       "    </tr>\n",
       "    <tr>\n",
       "      <th>0</th>\n",
       "      <td>NewAmsterdam Pharma Co N.V.</td>\n",
       "      <td>USD</td>\n",
       "      <td>NetCashProvidedByUsedInOperatingActivities</td>\n",
       "      <td>-280887.827167</td>\n",
       "      <td>-280887.827167</td>\n",
       "      <td>None</td>\n",
       "      <td>USD</td>\n",
       "      <td>Nasdaq:NAMS</td>\n",
       "    </tr>\n",
       "    <tr>\n",
       "      <th>0</th>\n",
       "      <td>Oculis Holding AG</td>\n",
       "      <td>CHF</td>\n",
       "      <td>CashFlowsFromUsedInOperatingActivities</td>\n",
       "      <td>-84930.402930</td>\n",
       "      <td>-96175.213758</td>\n",
       "      <td>None</td>\n",
       "      <td>USD</td>\n",
       "      <td>Nasdaq:OCS</td>\n",
       "    </tr>\n",
       "    <tr>\n",
       "      <th>0</th>\n",
       "      <td>CERO THERAPEUTICS HOLDINGS, INC.</td>\n",
       "      <td>USD</td>\n",
       "      <td>NetCashProvidedByUsedInOperatingActivities</td>\n",
       "      <td>-3593.201923</td>\n",
       "      <td>-3593.201923</td>\n",
       "      <td>None</td>\n",
       "      <td>USD</td>\n",
       "      <td>Nasdaq:PBAX</td>\n",
       "    </tr>\n",
       "    <tr>\n",
       "      <th>0</th>\n",
       "      <td>Bridger Aerospace Group Holdings, Inc.</td>\n",
       "      <td>USD</td>\n",
       "      <td>NetCashProvidedByUsedInOperatingActivities</td>\n",
       "      <td>-183076.210712</td>\n",
       "      <td>-183076.210712</td>\n",
       "      <td>None</td>\n",
       "      <td>USD</td>\n",
       "      <td>Nasdaq:BAER</td>\n",
       "    </tr>\n",
       "    <tr>\n",
       "      <th>0</th>\n",
       "      <td>5E Advanced Materials, Inc.</td>\n",
       "      <td>USD</td>\n",
       "      <td>NetCashProvidedByUsedInOperatingActivities</td>\n",
       "      <td>-82298.628762</td>\n",
       "      <td>-82298.628762</td>\n",
       "      <td>None</td>\n",
       "      <td>None</td>\n",
       "      <td>Nasdaq:FEAM</td>\n",
       "    </tr>\n",
       "    <tr>\n",
       "      <th>0</th>\n",
       "      <td>Alvotech</td>\n",
       "      <td>NaN</td>\n",
       "      <td>NaN</td>\n",
       "      <td>NaN</td>\n",
       "      <td>NaN</td>\n",
       "      <td>None</td>\n",
       "      <td>USD</td>\n",
       "      <td>Nasdaq:ALVO</td>\n",
       "    </tr>\n",
       "    <tr>\n",
       "      <th>0</th>\n",
       "      <td>TC BioPharm (Holdings) plc</td>\n",
       "      <td>GBP</td>\n",
       "      <td>NetCashProvidedByUsedInOperatingActivities</td>\n",
       "      <td>-32613.503229</td>\n",
       "      <td>-42427.933676</td>\n",
       "      <td>None</td>\n",
       "      <td>USD</td>\n",
       "      <td>Nasdaq:TCBP</td>\n",
       "    </tr>\n",
       "    <tr>\n",
       "      <th>0</th>\n",
       "      <td>Dakota Gold Corp.</td>\n",
       "      <td>USD</td>\n",
       "      <td>NetCashProvidedByUsedInOperatingActivities</td>\n",
       "      <td>-90258.589627</td>\n",
       "      <td>-90258.589627</td>\n",
       "      <td>None</td>\n",
       "      <td>USD</td>\n",
       "      <td>NYSE:DC</td>\n",
       "    </tr>\n",
       "  </tbody>\n",
       "</table>\n",
       "</div>"
      ],
      "text/plain": [
       "                             Company name OCF Currency  \\\n",
       "0                    U.S. GoldMining Inc.          USD   \n",
       "0             NewAmsterdam Pharma Co N.V.          USD   \n",
       "0                       Oculis Holding AG          CHF   \n",
       "0        CERO THERAPEUTICS HOLDINGS, INC.          USD   \n",
       "0  Bridger Aerospace Group Holdings, Inc.          USD   \n",
       "0             5E Advanced Materials, Inc.          USD   \n",
       "0                                Alvotech          NaN   \n",
       "0              TC BioPharm (Holdings) plc          GBP   \n",
       "0                       Dakota Gold Corp.          USD   \n",
       "\n",
       "                                     OCF Name  Avg daily OCF burn  \\\n",
       "0  NetCashProvidedByUsedInOperatingActivities       -10183.166172   \n",
       "0  NetCashProvidedByUsedInOperatingActivities      -280887.827167   \n",
       "0      CashFlowsFromUsedInOperatingActivities       -84930.402930   \n",
       "0  NetCashProvidedByUsedInOperatingActivities        -3593.201923   \n",
       "0  NetCashProvidedByUsedInOperatingActivities      -183076.210712   \n",
       "0  NetCashProvidedByUsedInOperatingActivities       -82298.628762   \n",
       "0                                         NaN                 NaN   \n",
       "0  NetCashProvidedByUsedInOperatingActivities       -32613.503229   \n",
       "0  NetCashProvidedByUsedInOperatingActivities       -90258.589627   \n",
       "\n",
       "   USD Avg daily OCF burn Market Cap Market Cap Currency   CIQ ticker  \n",
       "0           -10183.166172       None                 USD  Nasdaq:USGO  \n",
       "0          -280887.827167       None                 USD  Nasdaq:NAMS  \n",
       "0           -96175.213758       None                 USD   Nasdaq:OCS  \n",
       "0            -3593.201923       None                 USD  Nasdaq:PBAX  \n",
       "0          -183076.210712       None                 USD  Nasdaq:BAER  \n",
       "0           -82298.628762       None                None  Nasdaq:FEAM  \n",
       "0                     NaN       None                 USD  Nasdaq:ALVO  \n",
       "0           -42427.933676       None                 USD  Nasdaq:TCBP  \n",
       "0           -90258.589627       None                 USD      NYSE:DC  "
      ]
     },
     "execution_count": 12,
     "metadata": {},
     "output_type": "execute_result"
    }
   ],
   "source": [
    "missing_data_df"
   ]
  },
  {
   "cell_type": "code",
   "execution_count": null,
   "metadata": {},
   "outputs": [],
   "source": [
    "# Save to Excel\n",
    "file_name = \"Selected filings.xlsx\"\n",
    "with pd.ExcelWriter(file_name, engine='openpyxl') as writer:\n",
    "    # Write each DataFrame to a different sheet\n",
    "    comp_out_df.to_excel(writer, sheet_name='Verified Companies', index=False)\n",
    "    missing_data_df.to_excel(writer, sheet_name='Companies with missing data', index=False)"
   ]
  },
  {
   "cell_type": "markdown",
   "metadata": {},
   "source": [
    "### COMPANY FACTS"
   ]
  },
  {
   "cell_type": "code",
   "execution_count": null,
   "metadata": {},
   "outputs": [],
   "source": [
    "comp_facts = ealib.get_response_dict(ealib.companyfacts_url(query_cik), req_header, mrps=mrps)\n",
    "us_gaap_facts_dict = comp_facts[\"facts\"][\"us-gaap\"]\n",
    "us_gaap_facts_dict.keys()"
   ]
  },
  {
   "cell_type": "code",
   "execution_count": null,
   "metadata": {},
   "outputs": [],
   "source": [
    "comp_facts[\"facts\"][\"dei\"].keys()"
   ]
  },
  {
   "cell_type": "code",
   "execution_count": null,
   "metadata": {},
   "outputs": [],
   "source": [
    "\"\"\"\n",
    "Shares outstanding\n",
    "\"\"\"\n",
    "pd.DataFrame(comp_facts[\"facts\"][\"dei\"][\"EntityCommonStockSharesOutstanding\"][\"units\"][\"shares\"])"
   ]
  },
  {
   "cell_type": "code",
   "execution_count": null,
   "metadata": {},
   "outputs": [],
   "source": [
    "\n",
    "\"\"\"\n",
    "Market cap (proxy)\n",
    "\"\"\"\n",
    "pd.DataFrame(comp_facts[\"facts\"][\"dei\"][\"EntityPublicFloat\"][\"units\"][\"USD\"])"
   ]
  },
  {
   "cell_type": "code",
   "execution_count": null,
   "metadata": {},
   "outputs": [],
   "source": [
    "\n",
    "test_qr_substr = \"stock\"\n",
    "filtered_keys = find_dict_key_substr(us_gaap_facts_dict, test_qr_substr)\n",
    "\n",
    "\"\"\"\n",
    "sub_dict = {key: us_gaap_facts_dict[key] for key in filtered_keys if key in us_gaap_facts_dict}\n",
    "\"\"\"\n",
    "filtered_keys"
   ]
  },
  {
   "cell_type": "code",
   "execution_count": null,
   "metadata": {},
   "outputs": [],
   "source": [
    "us_gaap_facts_dict[\"CommonStockValue\"][\"units\"][\"USD\"]"
   ]
  },
  {
   "cell_type": "code",
   "execution_count": null,
   "metadata": {},
   "outputs": [],
   "source": [
    "# Convert to pd data frame\n",
    "pd.DataFrame(us_gaap_facts_dict[\"CommonStockValue\"][\"units\"][\"USD\"])"
   ]
  },
  {
   "cell_type": "markdown",
   "metadata": {},
   "source": [
    "### COMPANY CONCEPT"
   ]
  },
  {
   "cell_type": "code",
   "execution_count": null,
   "metadata": {},
   "outputs": [],
   "source": [
    "rev_concept = ealib.get_response_dict(\n",
    "    ealib.companyconcept_url(query_cik, \"/us-gaap/Revenues\"), \n",
    "    req_header,\n",
    "    mrps=mrps\n",
    ")\n",
    "\n",
    "# Coincides with company facts request\n",
    "pd.DataFrame(rev_concept[\"units\"][\"USD\"])"
   ]
  }
 ],
 "metadata": {
  "kernelspec": {
   "display_name": "Python 3",
   "language": "python",
   "name": "python3"
  },
  "language_info": {
   "codemirror_mode": {
    "name": "ipython",
    "version": 3
   },
   "file_extension": ".py",
   "mimetype": "text/x-python",
   "name": "python",
   "nbconvert_exporter": "python",
   "pygments_lexer": "ipython3",
   "version": "3.11.3"
  }
 },
 "nbformat": 4,
 "nbformat_minor": 2
}
