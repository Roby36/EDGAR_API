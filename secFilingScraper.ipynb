{
 "cells": [
  {
   "cell_type": "markdown",
   "metadata": {},
   "source": [
    "### IMPORTS"
   ]
  },
  {
   "cell_type": "code",
   "execution_count": null,
   "metadata": {},
   "outputs": [],
   "source": [
    "import ealib\n",
    "\n",
    "import logging\n",
    "import pandas as pd\n",
    "from collections import Counter\n",
    "import random\n",
    "from typing import Tuple\n",
    "import yfinance as yf"
   ]
  },
  {
   "cell_type": "code",
   "execution_count": null,
   "metadata": {},
   "outputs": [],
   "source": [
    "# EDGAR API requires request header\n",
    "req_header = {\"User-Agent\": \"roberto.brera.24@outlook.com\"}"
   ]
  },
  {
   "cell_type": "markdown",
   "metadata": {},
   "source": [
    "### Logging tests/setup"
   ]
  },
  {
   "cell_type": "code",
   "execution_count": null,
   "metadata": {},
   "outputs": [],
   "source": [
    "logging.basicConfig(level=logging.INFO, format='%(asctime)s - %(levelname)s - %(message)s', force=True)\n",
    "logging.info(\"logging info\")"
   ]
  },
  {
   "cell_type": "markdown",
   "metadata": {},
   "source": [
    "### COMP TICKERS"
   ]
  },
  {
   "cell_type": "code",
   "execution_count": null,
   "metadata": {},
   "outputs": [],
   "source": [
    "# Dictionary to pandas dataframe\n",
    "tickers_df = ealib.get_tickers_df(req_header)\n",
    "tickers_df.head()"
   ]
  },
  {
   "cell_type": "code",
   "execution_count": null,
   "metadata": {},
   "outputs": [],
   "source": [
    "# Examples on searches performable on this dataframe\n",
    "tickers_df.iloc[133]\n",
    "tickers_df[tickers_df[\"ticker\"] == \"NVDA\"]\n",
    "tickers_df[0:4]"
   ]
  },
  {
   "cell_type": "code",
   "execution_count": null,
   "metadata": {},
   "outputs": [],
   "source": [
    "# Search func examples\n",
    "ealib.find_ticker(tickers_df, \"NVDA\")[\"cik_str\"].iloc[0]\n",
    "\n",
    "# Random companies\n",
    "tickers_df.iloc[97:111]"
   ]
  },
  {
   "cell_type": "code",
   "execution_count": null,
   "metadata": {},
   "outputs": [],
   "source": [
    "ealib.find_title_substring(tickers_df, \"morgan\")"
   ]
  },
  {
   "cell_type": "markdown",
   "metadata": {},
   "source": [
    "### COMP METADATA"
   ]
  },
  {
   "cell_type": "code",
   "execution_count": null,
   "metadata": {},
   "outputs": [],
   "source": [
    "# Find cik for some company given name substring\n",
    "query_substr =  \"gamestop\"\n",
    "query_ticker = ealib.find_title_substring(tickers_df, query_substr)\n",
    "query_ticker"
   ]
  },
  {
   "cell_type": "markdown",
   "metadata": {},
   "source": [
    "### Filtering: Ticker df (yfinance, e.g. marketCap)"
   ]
  },
  {
   "cell_type": "code",
   "execution_count": null,
   "metadata": {},
   "outputs": [],
   "source": [
    "# Suppose we are iterating through tickers_df\n",
    "curr_ticker = tickers_df.iloc[1000]\n",
    "curr_yticker = yf.Ticker(curr_ticker[\"ticker\"])"
   ]
  },
  {
   "cell_type": "code",
   "execution_count": null,
   "metadata": {},
   "outputs": [],
   "source": [
    "# Search for particular info keys\n",
    "ealib.find_dict_key_substr(curr_yticker.info, [\"cap\"])\n",
    "ealib.find_dict_key_substr(curr_yticker.info, [\"currency\"])\n",
    "\n",
    "# Check other yfinance info, to then compare with SEC\n",
    "ealib.find_keys_containing_all_substrs(curr_yticker.info, [\"cash\", \"operating\"])"
   ]
  },
  {
   "cell_type": "code",
   "execution_count": null,
   "metadata": {},
   "outputs": [],
   "source": [
    "# Search for the information, returning NA is not found\n",
    "ealib.yf_info(curr_ticker[\"ticker\"], \"marketCap\")\n",
    "ealib.yf_info(curr_ticker[\"ticker\"], \"currency\")\n",
    "ealib.yf_info(curr_ticker[\"ticker\"], \"operatingCashflow\")"
   ]
  },
  {
   "cell_type": "code",
   "execution_count": null,
   "metadata": {},
   "outputs": [],
   "source": [
    "# Generate info series for a df of tickers\n",
    "marketCap_series = tickers_df[:10][\"ticker\"].apply(lambda x: ealib.yf_info(x, \"marketCap\"))\n",
    "\n",
    "# How many nans have we got?\n",
    "marketCap_series.isna().sum()"
   ]
  },
  {
   "cell_type": "code",
   "execution_count": null,
   "metadata": {},
   "outputs": [],
   "source": [
    "# Now apply filtering\n",
    "market_cap_threshhold = 15*(10**9)\n",
    "mask = marketCap_series < market_cap_threshhold\n",
    "filtered_series = marketCap_series[mask]\n",
    "\n",
    "# How many?\n",
    "mask.sum()"
   ]
  },
  {
   "cell_type": "markdown",
   "metadata": {},
   "source": [
    "### Filtering: Ticker df req--> Comp mtd (e.g. filing)"
   ]
  },
  {
   "cell_type": "markdown",
   "metadata": {},
   "source": [
    "#### This functionality already implemented in donload_select_filings"
   ]
  },
  {
   "cell_type": "code",
   "execution_count": null,
   "metadata": {},
   "outputs": [],
   "source": [
    "# Suppose we are iterating through tickers_df\n",
    "curr_ticker = tickers_df.iloc[6849]\n",
    "curr_ticker"
   ]
  },
  {
   "cell_type": "code",
   "execution_count": null,
   "metadata": {},
   "outputs": [],
   "source": [
    "# REQUEST the company dataframe for the iterator ticker\n",
    "curr_comp_mtd = ealib.get_response_dict(ealib.metadata_url(curr_ticker[\"cik_str\"] ), req_header, mrps=1)\n",
    "\n",
    "# Extract filing information into dataframe\n",
    "if not curr_comp_mtd or not curr_comp_mtd.get(\"filings\") or not curr_comp_mtd.get(\"filings\", {}).get(\"recent\"):\n",
    "    logging.warning(f'Could not find comp_mtd[\"filings\"][\"recent\"] dictionary for {curr_ticker[\"ticker\"]}')\n",
    "curr_filings_df = pd.DataFrame.from_dict(curr_comp_mtd[\"filings\"][\"recent\"])\n",
    "curr_filings_df"
   ]
  },
  {
   "cell_type": "code",
   "execution_count": null,
   "metadata": {},
   "outputs": [],
   "source": [
    "# Filter the filings for this specific ticker, and for specific filing query \n",
    "query_forms = [\"424B5\", \"S-3\"]\n",
    "max_days = 180\n",
    "curr_select_filings = ealib.filter_filings(curr_filings_df, \"filingDate\", \"form\", query_forms, max_days)\n",
    "\n",
    "# If we find no filings, then the company is excluded\n",
    "curr_select_filings.empty"
   ]
  },
  {
   "cell_type": "markdown",
   "metadata": {},
   "source": [
    "### Filtering: Ticker df req--> Company Fact (e.g. oper. cash flow)"
   ]
  },
  {
   "cell_type": "code",
   "execution_count": null,
   "metadata": {},
   "outputs": [],
   "source": [
    "# Suppose we are iterating through tickers_df\n",
    "curr_ticker = tickers_df.iloc[2098]\n",
    "curr_ticker"
   ]
  },
  {
   "cell_type": "code",
   "execution_count": null,
   "metadata": {},
   "outputs": [],
   "source": [
    "# Request company facts dictionary\n",
    "\"\"\"\n",
    "TODO: Handle failure for this and other similar requests (handled in company_facts_df)\n",
    "\"\"\"\n",
    "comp_facts = ealib.get_response_dict(ealib.companyfacts_url(curr_ticker[\"cik_str\"]), req_header, mrps=1)"
   ]
  },
  {
   "cell_type": "code",
   "execution_count": null,
   "metadata": {},
   "outputs": [],
   "source": [
    "# What is the right subdictionary?\n",
    "\"\"\" Most common facts entries by far:\n",
    "[\"facts\"][\"ifrs-full\"]\n",
    "[\"facts\"][\"us-gaap\"]\n",
    "\"\"\"\n",
    "comp_facts_subdict = comp_facts[\"facts\"][\"us-gaap\"]\n",
    "comp_facts_subdict"
   ]
  },
  {
   "cell_type": "code",
   "execution_count": null,
   "metadata": {},
   "outputs": [],
   "source": [
    "# Script to count different company facts subdictionary entries\n",
    "tot_tickers = 1000\n",
    "start_ticker = 8080\n",
    "keys_counter = Counter()\n",
    "index_dict = {}\n",
    "for index, row in tickers_df[start_ticker:start_ticker + tot_tickers].iterrows():\n",
    "    \"\"\" \n",
    "    IMPORTANT: Always handle None returns i.e. unsuccessful requests\n",
    "    \"\"\"\n",
    "    cfacts = ealib.get_response_dict(ealib.companyfacts_url(row[\"cik_str\"]), req_header, mrps=8)\n",
    "    if cfacts == None:\n",
    "        keys_counter[\"FAILED_REQS\"] += 1\n",
    "        index_dict[\"FAILED_REQS\"] = index\n",
    "        continue\n",
    "    for key in cfacts[\"facts\"].keys():\n",
    "        keys_counter[key] += 1\n",
    "        index_dict[key] = index\n",
    "\n",
    "print(keys_counter)\n",
    "print(index_dict)\n",
    "print(f'tot_tickers = {tot_tickers}')\n",
    "print(f'us-gaap + ifrs + failed reqs = {keys_counter[\"FAILED_REQS\"] + keys_counter[\"us-gaap\"] + keys_counter[\"ifrs-full\"]}')\n"
   ]
  },
  {
   "cell_type": "code",
   "execution_count": null,
   "metadata": {},
   "outputs": [],
   "source": [
    "# Testing of abstracted Overall function to get a company fact dataframe from an arbitrary ticker\n",
    "num_tests = 1000\n",
    "none_rets = 0\n",
    "for _ in range(num_tests):\n",
    "    random_number = random.randint(1, 10000)\n",
    "    res = ealib.company_fact_df(\n",
    "        tickers_df.iloc[random_number],\n",
    "        [\"us-gaap\", \"ifrs-full\"],\n",
    "        [\"NetCashProvidedByUsedInOperatingActivities\", \"CashFlowsFromUsedInOperatingActivities\"], \n",
    "        True,\n",
    "        req_header, \n",
    "        8\n",
    "    )\n",
    "    # Unpack defensively\n",
    "    if res is not None:\n",
    "        res_units, selected_fact, res_df = res\n",
    "        logging.info(f'company_fact_df selected fact: {selected_fact}')\n",
    "        \"\"\"\n",
    "        print(f'res_units = {res_units}')\n",
    "        print(res_df)\n",
    "        \"\"\"\n",
    "    else:\n",
    "        none_rets += 1\n",
    "\n",
    "print(f'{none_rets} none returns out of {num_tests} tests')"
   ]
  },
  {
   "cell_type": "markdown",
   "metadata": {},
   "source": [
    "### Calculating cash burn rate"
   ]
  },
  {
   "cell_type": "code",
   "execution_count": null,
   "metadata": {},
   "outputs": [],
   "source": [
    "# Suppose we are iterating through tickers_df\n",
    "curr_ticker = tickers_df.iloc[6666]\n",
    "curr_ticker"
   ]
  },
  {
   "cell_type": "code",
   "execution_count": null,
   "metadata": {},
   "outputs": [],
   "source": [
    "# Get the dataframe for some metric\n",
    "unit, selected_comp_fact, ocf_df = ealib.company_fact_df(\n",
    "    curr_ticker, \n",
    "    [\"us-gaap\", \"ifrs-full\"], \n",
    "    [\"NetCashProvidedByUsedInOperatingActivities\", \"CashFlowsFromUsedInOperatingActivities\"], \n",
    "    True,\n",
    "    req_header, \n",
    "    8\n",
    ")\n",
    "\n",
    "ocf_df"
   ]
  },
  {
   "cell_type": "markdown",
   "metadata": {},
   "source": [
    "#### filing date column \"filed\" vs \"end\""
   ]
  },
  {
   "cell_type": "code",
   "execution_count": null,
   "metadata": {},
   "outputs": [],
   "source": [
    "# Use filtering function to filter recent filings and sort list\n",
    "max_days = 180\n",
    "ocf_df_filt = ealib.filter_filings(ocf_df, filing_date_col=\"filed\", form_col=\"form\", query_forms=[\"\"], max_days=max_days)\n",
    "ocf_df_filt"
   ]
  },
  {
   "cell_type": "code",
   "execution_count": null,
   "metadata": {},
   "outputs": [],
   "source": [
    "# Finally calculate cash burn rate (expected negative)\n",
    "ealib.ocf_average_daily_burn_rate(ocf_df_filt)"
   ]
  },
  {
   "cell_type": "markdown",
   "metadata": {},
   "source": [
    "### Converting between currencies"
   ]
  },
  {
   "cell_type": "code",
   "execution_count": null,
   "metadata": {},
   "outputs": [],
   "source": [
    "from_currency = \"USD\"\n",
    "to_currency = \"USD\"\n",
    "forex_ticker =  f\"{from_currency}{to_currency}=X\"\n",
    "\n",
    "ealib.yf_info(forex_ticker, \"previousClose\")"
   ]
  },
  {
   "cell_type": "markdown",
   "metadata": {},
   "source": [
    "## Overall filtering function"
   ]
  },
  {
   "cell_type": "code",
   "execution_count": null,
   "metadata": {},
   "outputs": [],
   "source": [
    "# Main parameter setting and fucntion call\n",
    "comp_out_df, missing_data_df = ealib.screen_select_companies(\n",
    "    # general parameters:\n",
    "        req_header=req_header, \n",
    "        mrps=8, \n",
    "        tickers_df=tickers_df, \n",
    "        root_dir=\"Selected filings\", \n",
    "    # filtering parameters:\n",
    "        query_forms = [\"424B5\", \"S-3\"], \n",
    "        max_days = 180, \n",
    "        max_market_cap = 15*(10**9), \n",
    "        max_ocf_daily_burn_rate = 0, \n",
    "        ocf_max_days = 180, \n",
    "        ocf_filing_date_col = \"filed\",\n",
    "    # download parameters:\n",
    "        out_df_sort_key = \"Avg yearly OCF burn / Market Cap\", \n",
    "        write_txt = False, \n",
    "        write_pdf = True\n",
    ")"
   ]
  },
  {
   "cell_type": "code",
   "execution_count": null,
   "metadata": {},
   "outputs": [],
   "source": [
    "# Render dataframes\n",
    "comp_out_df"
   ]
  },
  {
   "cell_type": "code",
   "execution_count": null,
   "metadata": {},
   "outputs": [],
   "source": [
    "missing_data_df"
   ]
  },
  {
   "cell_type": "code",
   "execution_count": null,
   "metadata": {},
   "outputs": [],
   "source": [
    "# Save to Excel\n",
    "file_name = \"Selected filings.xlsx\"\n",
    "with pd.ExcelWriter(file_name, engine='openpyxl') as writer:\n",
    "    # Write each DataFrame to a different sheet\n",
    "    comp_out_df.to_excel(writer, sheet_name='Verified Companies', index=False)\n",
    "    missing_data_df.to_excel(writer, sheet_name='Companies with missing data', index=False)"
   ]
  },
  {
   "cell_type": "markdown",
   "metadata": {},
   "source": [
    "####  Reconstruct with yfinance missing_data_df"
   ]
  },
  {
   "cell_type": "code",
   "execution_count": null,
   "metadata": {},
   "outputs": [],
   "source": [
    "# First extract the original ticker\n",
    "missing_data_ticks = missing_data_df[\"CIQ ticker\"].apply(lambda x: x.split(\":\")[1] if \":\" in x else x)\n",
    "missing_data_ticks"
   ]
  },
  {
   "cell_type": "code",
   "execution_count": null,
   "metadata": {},
   "outputs": [],
   "source": [
    "# Compute OCF with yfinance\n",
    "operatingCashflow_series = missing_data_ticks.apply(lambda x: ealib.yf_info(x, \"operatingCashflow\"))\n",
    "\n",
    "# How many Nones have we still got?\n",
    "operatingCashflow_series.isna().sum()"
   ]
  },
  {
   "cell_type": "code",
   "execution_count": null,
   "metadata": {},
   "outputs": [],
   "source": [
    "# Now write enriched data frame back to Excel\n",
    "operatingCashflow_series.name = \"OCF (yf)\"\n",
    "enriched_df = pd.concat([missing_data_df, operatingCashflow_series], axis=1)\n",
    "enriched_df.to_excel(\"enriched missing data.xlsx\", sheet_name='Enriched missing data (yf)', index=False)"
   ]
  },
  {
   "cell_type": "markdown",
   "metadata": {},
   "source": [
    "### COMPANY FACTS"
   ]
  },
  {
   "cell_type": "code",
   "execution_count": null,
   "metadata": {},
   "outputs": [],
   "source": [
    "comp_facts = ealib.get_response_dict(ealib.companyfacts_url(query_cik), req_header, mrps=mrps)\n",
    "us_gaap_facts_dict = comp_facts[\"facts\"][\"us-gaap\"]\n",
    "us_gaap_facts_dict.keys()"
   ]
  },
  {
   "cell_type": "code",
   "execution_count": null,
   "metadata": {},
   "outputs": [],
   "source": [
    "comp_facts[\"facts\"][\"dei\"].keys()"
   ]
  },
  {
   "cell_type": "code",
   "execution_count": null,
   "metadata": {},
   "outputs": [],
   "source": [
    "\"\"\"\n",
    "Shares outstanding\n",
    "\"\"\"\n",
    "pd.DataFrame(comp_facts[\"facts\"][\"dei\"][\"EntityCommonStockSharesOutstanding\"][\"units\"][\"shares\"])"
   ]
  },
  {
   "cell_type": "code",
   "execution_count": null,
   "metadata": {},
   "outputs": [],
   "source": [
    "\n",
    "\"\"\"\n",
    "Market cap (proxy)\n",
    "\"\"\"\n",
    "pd.DataFrame(comp_facts[\"facts\"][\"dei\"][\"EntityPublicFloat\"][\"units\"][\"USD\"])"
   ]
  },
  {
   "cell_type": "code",
   "execution_count": null,
   "metadata": {},
   "outputs": [],
   "source": [
    "\n",
    "test_qr_substr = \"stock\"\n",
    "filtered_keys = find_dict_key_substr(us_gaap_facts_dict, test_qr_substr)\n",
    "\n",
    "\"\"\"\n",
    "sub_dict = {key: us_gaap_facts_dict[key] for key in filtered_keys if key in us_gaap_facts_dict}\n",
    "\"\"\"\n",
    "filtered_keys"
   ]
  },
  {
   "cell_type": "code",
   "execution_count": null,
   "metadata": {},
   "outputs": [],
   "source": [
    "us_gaap_facts_dict[\"CommonStockValue\"][\"units\"][\"USD\"]"
   ]
  },
  {
   "cell_type": "code",
   "execution_count": null,
   "metadata": {},
   "outputs": [],
   "source": [
    "# Convert to pd data frame\n",
    "pd.DataFrame(us_gaap_facts_dict[\"CommonStockValue\"][\"units\"][\"USD\"])"
   ]
  },
  {
   "cell_type": "markdown",
   "metadata": {},
   "source": [
    "### COMPANY CONCEPT"
   ]
  },
  {
   "cell_type": "code",
   "execution_count": null,
   "metadata": {},
   "outputs": [],
   "source": [
    "rev_concept = ealib.get_response_dict(\n",
    "    ealib.companyconcept_url(query_cik, \"/us-gaap/Revenues\"), \n",
    "    req_header,\n",
    "    mrps=mrps\n",
    ")\n",
    "\n",
    "# Coincides with company facts request\n",
    "pd.DataFrame(rev_concept[\"units\"][\"USD\"])"
   ]
  }
 ],
 "metadata": {
  "kernelspec": {
   "display_name": "Python 3",
   "language": "python",
   "name": "python3"
  },
  "language_info": {
   "codemirror_mode": {
    "name": "ipython",
    "version": 3
   },
   "file_extension": ".py",
   "mimetype": "text/x-python",
   "name": "python",
   "nbconvert_exporter": "python",
   "pygments_lexer": "ipython3",
   "version": "3.11.3"
  }
 },
 "nbformat": 4,
 "nbformat_minor": 2
}
