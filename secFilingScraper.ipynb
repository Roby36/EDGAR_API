{
 "cells": [
  {
   "cell_type": "markdown",
   "metadata": {},
   "source": [
    "### IMPORTS"
   ]
  },
  {
   "cell_type": "code",
   "execution_count": 245,
   "metadata": {},
   "outputs": [],
   "source": [
    "import ealib"
   ]
  },
  {
   "cell_type": "code",
   "execution_count": 199,
   "metadata": {},
   "outputs": [],
   "source": [
    "# EDGAR API requires request header\n",
    "req_header = {\"User-Agent\": \"roberto.brera.24@outlook.com\"}"
   ]
  },
  {
   "cell_type": "markdown",
   "metadata": {},
   "source": [
    "### COMP TICKERS"
   ]
  },
  {
   "cell_type": "code",
   "execution_count": null,
   "metadata": {},
   "outputs": [],
   "source": [
    "# Dictionary to pandas dataframe\n",
    "tickers_df = get_tickers_df(req_header)\n",
    "tickers_df.head()"
   ]
  },
  {
   "cell_type": "code",
   "execution_count": null,
   "metadata": {},
   "outputs": [],
   "source": [
    "# Examples on searches performable on this dataframe\n",
    "tickers_df.iloc[133]\n",
    "tickers_df[tickers_df[\"ticker\"] == \"NVDA\"]\n",
    "tickers_df[0:4]"
   ]
  },
  {
   "cell_type": "code",
   "execution_count": 205,
   "metadata": {},
   "outputs": [
    {
     "data": {
      "text/html": [
       "<div>\n",
       "<style scoped>\n",
       "    .dataframe tbody tr th:only-of-type {\n",
       "        vertical-align: middle;\n",
       "    }\n",
       "\n",
       "    .dataframe tbody tr th {\n",
       "        vertical-align: top;\n",
       "    }\n",
       "\n",
       "    .dataframe thead th {\n",
       "        text-align: right;\n",
       "    }\n",
       "</style>\n",
       "<table border=\"1\" class=\"dataframe\">\n",
       "  <thead>\n",
       "    <tr style=\"text-align: right;\">\n",
       "      <th></th>\n",
       "      <th>cik_str</th>\n",
       "      <th>ticker</th>\n",
       "      <th>title</th>\n",
       "    </tr>\n",
       "  </thead>\n",
       "  <tbody>\n",
       "    <tr>\n",
       "      <th>752</th>\n",
       "      <td>0000909327</td>\n",
       "      <td>SUZ</td>\n",
       "      <td>Suzano S.A.</td>\n",
       "    </tr>\n",
       "  </tbody>\n",
       "</table>\n",
       "</div>"
      ],
      "text/plain": [
       "        cik_str ticker        title\n",
       "752  0000909327    SUZ  Suzano S.A."
      ]
     },
     "execution_count": 205,
     "metadata": {},
     "output_type": "execute_result"
    }
   ],
   "source": [
    "# Search func examples\n",
    "find_ticker(tickers_df, \"NVDA\")[\"cik_str\"].iloc[0]\n",
    "find_title_substring(tickers_df, \"suzano\")\n"
   ]
  },
  {
   "cell_type": "markdown",
   "metadata": {},
   "source": [
    "### COMP METADATA"
   ]
  },
  {
   "cell_type": "code",
   "execution_count": null,
   "metadata": {},
   "outputs": [],
   "source": [
    "# First find the cik for some company\n",
    "query_substr =  \"gamestop\"\n",
    "query_cik = find_title_substring(tickers_df, query_substr)[\"cik_str\"].iloc[0]\n",
    "\n",
    "# Then use cik to get company metadata\n",
    "filing_mtd_dict = get_metadata_dict(req_header, query_cik)\n",
    "\n",
    "# filing_mtd_dict[\"filings\"][\"recent\"].keys()\n",
    "recent_filings_dict = filing_mtd_dict[\"filings\"][\"recent\"]\n",
    "\n",
    "# Convert to dataframe of recent filings\n",
    "recent_filings_df = pd.DataFrame.from_dict(recent_filings_dict)\n",
    "recent_filings_df.head()\n"
   ]
  },
  {
   "cell_type": "code",
   "execution_count": 270,
   "metadata": {},
   "outputs": [
    {
     "data": {
      "text/plain": [
       "primaryDocDescription\n",
       "FORM 4              283\n",
       "PRIMARY DOCUMENT    181\n",
       "                    145\n",
       "8-K                 134\n",
       "10-Q                 32\n",
       "Name: count, dtype: int64"
      ]
     },
     "execution_count": 270,
     "metadata": {},
     "output_type": "execute_result"
    }
   ],
   "source": [
    "# Value counts for some given column\n",
    "doc_types_freq = recent_filings_df['primaryDocDescription'].value_counts()\n",
    "doc_types_freq.head()"
   ]
  },
  {
   "cell_type": "code",
   "execution_count": 271,
   "metadata": {},
   "outputs": [],
   "source": [
    "\"\"\" Access the contents of the filings with the following URL format\n",
    "https://www.sec.gov/Archives/edgar/data/{cik}/{accession-number}/{filename}\n",
    "\"\"\"\n",
    "\n",
    "\"\"\"\n",
    "Coming soon: abstraction for this procedure \n",
    "\"\"\"\n",
    "\n",
    "query_doc_types = [\"424B5\"]\n",
    "doc_data = filter_by_column(recent_filings_df, \"primaryDocDescription\", query_doc_types).iloc[2]\n",
    "accession_number_stripped = doc_data[\"accessionNumber\"].replace(\"-\",\"\")\n",
    "filename = doc_data[\"primaryDocument\"]\n",
    "\n",
    "doc_url = f\"https://www.sec.gov/Archives/edgar/data/{query_cik}/{accession_number_stripped}/{filename}\"\n",
    "\n",
    "response = requests.get(doc_url, headers=req_header)\n",
    "\n",
    "# Write text to local file:\n",
    "resp_file = \"resp.txt\"\n",
    "resp_text = response.text\n",
    "with open(resp_file, 'w', encoding='utf-8') as file:\n",
    "    # Write the text of the response to the file\n",
    "    file.write(resp_text)\n"
   ]
  },
  {
   "cell_type": "code",
   "execution_count": 272,
   "metadata": {},
   "outputs": [
    {
     "data": {
      "text/plain": [
       "True"
      ]
     },
     "execution_count": 272,
     "metadata": {},
     "output_type": "execute_result"
    }
   ],
   "source": [
    "# Use pdfkit to convert html to local pdf file\n",
    "import pdfkit\n",
    "\n",
    "options = {\n",
    "    'no-images': '',  \n",
    "    'disable-external-links': '',\n",
    "    'disable-internal-links': ''  \n",
    "}\n",
    "\n",
    "resp_pdf = \"resp.pdf\"\n",
    "pdfkit.from_string(resp_text, resp_pdf, options=options)\n"
   ]
  },
  {
   "cell_type": "markdown",
   "metadata": {},
   "source": [
    "### COMPANY FACTS"
   ]
  },
  {
   "cell_type": "code",
   "execution_count": 211,
   "metadata": {},
   "outputs": [
    {
     "data": {
      "text/plain": [
       "dict_keys(['AccountsPayableCurrent', 'AccrualForTaxesOtherThanIncomeTaxesCurrent', 'AccruedIncomeTaxesCurrent', 'AccruedLiabilitiesCurrent', 'AccruedRentCurrent', 'AccumulatedAmortizationDeferredFinanceCosts', 'AccumulatedDepreciationDepletionAndAmortizationPropertyPlantAndEquipment', 'AccumulatedOtherComprehensiveIncomeLossNetOfTax', 'AdditionalPaidInCapitalCommonStock', 'AdjustmentsToAdditionalPaidInCapitalSharebasedCompensationRequisiteServicePeriodRecognitionValue', 'AdjustmentToAdditionalPaidInCapitalIncomeTaxEffectFromShareBasedCompensationNet', 'AdvertisingExpense', 'AllowanceForDoubtfulAccountsReceivableCurrent', 'AmortizationOfFinancingCosts', 'AmortizationOfFinancingCostsAndDiscounts', 'AmortizationOfIntangibleAssets', 'AntidilutiveSecuritiesExcludedFromComputationOfEarningsPerShareAmount', 'AssetImpairmentCharges', 'Assets', 'AssetsCurrent', 'AssetsHeldForSaleLongLivedFairValueDisclosure', 'AssetsNoncurrent', 'AssetsOfDisposalGroupIncludingDiscontinuedOperationCurrent', 'BusinessAcquisitionCostOfAcquiredEntityPurchasePrice', 'BusinessAcquisitionPercentageOfVotingInterestsAcquired', 'BusinessAcquisitionPurchasePriceAllocationGoodwillAmount', 'BusinessCombinationAcquisitionRelatedCosts', 'BusinessCombinationContingentConsiderationArrangementsChangeInAmountOfContingentConsiderationLiability1', 'BusinessCombinationContingentConsiderationArrangementsRangeOfOutcomesValueHigh', 'BusinessCombinationContingentConsiderationArrangementsRangeOfOutcomesValueLow', 'BusinessCombinationContingentConsiderationLiability', 'CashAcquiredFromAcquisition', 'CashAndCashEquivalentsAtCarryingValue', 'CashAndCashEquivalentsPeriodIncreaseDecrease', 'CashCashEquivalentsRestrictedCashAndRestrictedCashEquivalents', 'CashCashEquivalentsRestrictedCashAndRestrictedCashEquivalentsPeriodIncreaseDecreaseIncludingExchangeRateEffect', 'ClassOfWarrantOrRightNumberOfSecuritiesCalledByEachWarrantOrRight', 'ClassOfWarrantOrRightNumberOfSecuritiesCalledByWarrantsOrRights', 'CommitmentsAndContingencies', 'CommonStockDividendsPerShareDeclared', 'CommonStockParOrStatedValuePerShare', 'CommonStockSharesAuthorized', 'CommonStockSharesIssued', 'CommonStockSharesOutstanding', 'CommonStockValue', 'ComprehensiveIncomeNetOfTax', 'ComprehensiveIncomeNetOfTaxAttributableToNoncontrollingInterest', 'ComprehensiveIncomeNetOfTaxIncludingPortionAttributableToNoncontrollingInterest', 'ContractWithCustomerAssetCumulativeCatchUpAdjustmentToRevenueChangeInMeasureOfProgress', 'ContractWithCustomerLiability', 'ContractWithCustomerLiabilityCumulativeCatchUpAdjustmentToRevenueChangeInMeasureOfProgress', 'ContractWithCustomerLiabilityCurrent', 'CostOfGoodsSold', 'CostOfRevenue', 'CreditCardReceivables', 'CumulativeEffectOfInitialAdoptionOfNewAccountingPrinciple', 'CumulativeEffectOnRetainedEarningsBeforeTax1', 'CumulativeEffectOnRetainedEarningsNetOfTax1', 'CurrentFederalTaxExpenseBenefit', 'CurrentForeignTaxExpenseBenefit', 'CurrentIncomeTaxExpenseBenefit', 'CurrentStateAndLocalTaxExpenseBenefit', 'DebtCurrent', 'DebtInstrumentRepurchaseAmount', 'DeferredFederalIncomeTaxExpenseBenefit', 'DeferredFinanceCostsGross', 'DeferredFinanceCostsNet', 'DeferredFinanceCostsNoncurrentNet', 'DeferredForeignIncomeTaxExpenseBenefit', 'DeferredIncomeTaxAssetsNet', 'DeferredIncomeTaxExpenseBenefit', 'DeferredRevenueCurrent', 'DeferredStateAndLocalIncomeTaxExpenseBenefit', 'DeferredTaxAssetsDeferredIncome', 'DeferredTaxAssetsGoodwillAndIntangibleAssets', 'DeferredTaxAssetsGross', 'DeferredTaxAssetsInventory', 'DeferredTaxAssetsLiabilitiesNet', 'DeferredTaxAssetsLiabilitiesNetCurrent', 'DeferredTaxAssetsLiabilitiesNetNoncurrent', 'DeferredTaxAssetsNet', 'DeferredTaxAssetsNetCurrent', 'DeferredTaxAssetsNetNoncurrent', 'DeferredTaxAssetsOperatingLossCarryforwards', 'DeferredTaxAssetsOther', 'DeferredTaxAssetsPropertyPlantAndEquipment', 'DeferredTaxAssetsTaxCreditCarryforwardsForeign', 'DeferredTaxAssetsTaxDeferredExpenseCompensationAndBenefitsEmployeeCompensation', 'DeferredTaxAssetsTaxDeferredExpenseCompensationAndBenefitsShareBasedCompensationCost', 'DeferredTaxAssetsTaxDeferredExpenseReservesAndAccrualsDeferredRent', 'DeferredTaxAssetsValuationAllowance', 'DeferredTaxLiabilities', 'DeferredTaxLiabilitiesGoodwillAndIntangibleAssetsGoodwill', 'DeferredTaxLiabilitiesGoodwillAndIntangibleAssetsIntangibleAssets', 'DeferredTaxLiabilitiesNoncurrent', 'DeferredTaxLiabilitiesOther', 'DeferredTaxLiabilitiesPrepaidExpenses', 'DeferredTaxLiabilitiesPropertyPlantAndEquipment', 'DefinedBenefitPlanContributionsByEmployer', 'DefinedContributionPlanCostRecognized', 'DefinedContributionPlanMaximumAnnualContributionsPerEmployeeAmount', 'DefinedContributionPlanMaximumAnnualContributionsPerEmployeePercent', 'Depreciation', 'DepreciationAndAmortization', 'DerivativeNotionalAmount', 'DiscontinuedOperationIncomeLossFromDiscontinuedOperationNetOfTaxPerBasicShare', 'DiscontinuedOperationIncomeLossFromDiscontinuedOperationNetOfTaxPerDilutedShare', 'DiscontinuedOperationTaxEffectOfDiscontinuedOperation', 'DisposalGroupIncludingDiscontinuedOperationGeneralAndAdministrativeExpense', 'Dividends', 'EarningsPerShareBasic', 'EarningsPerShareDiluted', 'EffectiveIncomeTaxRateContinuingOperations', 'EffectiveIncomeTaxRateReconciliationAtFederalStatutoryIncomeTaxRate', 'EffectiveIncomeTaxRateReconciliationChangeInDeferredTaxAssetsValuationAllowance', 'EffectiveIncomeTaxRateReconciliationDeductionsQualifiedProductionActivities', 'EffectiveIncomeTaxRateReconciliationDispositionOfBusiness', 'EffectiveIncomeTaxRateReconciliationForeignIncomeTaxRateDifferential', 'EffectiveIncomeTaxRateReconciliationNondeductibleExpenseImpairmentLosses', 'EffectiveIncomeTaxRateReconciliationNondeductibleExpenseOther', 'EffectiveIncomeTaxRateReconciliationNondeductibleExpenseShareBasedCompensationCost', 'EffectiveIncomeTaxRateReconciliationOtherAdjustments', 'EffectiveIncomeTaxRateReconciliationStateAndLocalIncomeTaxes', 'EffectiveIncomeTaxRateReconciliationTaxCreditsForeign', 'EffectiveIncomeTaxRateReconciliationTaxExemptIncome', 'EffectOfExchangeRateOnCashAndCashEquivalents', 'EffectOfExchangeRateOnCashCashEquivalentsRestrictedCashAndRestrictedCashEquivalents', 'EmployeeRelatedLiabilitiesCurrent', 'EmployeeServiceShareBasedCompensationTaxBenefitFromCompensationExpense', 'ExcessTaxBenefitFromShareBasedCompensationFinancingActivities', 'ExcessTaxBenefitFromShareBasedCompensationOperatingActivities', 'FiniteLivedIntangibleAssetsAccumulatedAmortization', 'FiniteLivedIntangibleAssetsAmortizationExpenseNextTwelveMonths', 'FiniteLivedIntangibleAssetsAmortizationExpenseYearFive', 'FiniteLivedIntangibleAssetsAmortizationExpenseYearFour', 'FiniteLivedIntangibleAssetsAmortizationExpenseYearThree', 'FiniteLivedIntangibleAssetsAmortizationExpenseYearTwo', 'FiniteLivedIntangibleAssetsWeightedAverageUsefulLife', 'FixturesAndEquipmentGross', 'ForeignCurrencyDerivativeInstrumentsNotDesignatedAsHedgingInstrumentsAtFairValueNet', 'ForeignCurrencyTransactionGainLossUnrealized', 'GainLossOnDispositionOfAssets1', 'GainLossOnSaleOfBusiness', 'GainLossOnSaleOfOtherAssets', 'GainLossOnSaleOfPropertyPlantEquipment', 'GainsLossesOnExtinguishmentOfDebt', 'Goodwill', 'GoodwillAcquiredDuringPeriod', 'GoodwillForeignCurrencyTranslationGainLoss', 'GoodwillImpairedAccumulatedImpairmentLoss', 'GoodwillImpairmentLoss', 'GoodwillTransfers', 'GoodwillTranslationAdjustments', 'GoodwillWrittenOffRelatedToSaleOfBusinessUnit', 'GrossProfit', 'ImpairmentOfIntangibleAssetsExcludingGoodwill', 'ImpairmentOfIntangibleAssetsFinitelived', 'ImpairmentOfIntangibleAssetsIndefinitelivedExcludingGoodwill', 'ImpairmentOfInvestments', 'ImpairmentOfLongLivedAssetsHeldForUse', 'ImpairmentOfLongLivedAssetsToBeDisposedOf', 'IncomeLossFromContinuingOperations', 'IncomeLossFromContinuingOperationsBeforeIncomeTaxesDomestic', 'IncomeLossFromContinuingOperationsBeforeIncomeTaxesExtraordinaryItemsNoncontrollingInterest', 'IncomeLossFromContinuingOperationsBeforeIncomeTaxesForeign', 'IncomeLossFromContinuingOperationsBeforeIncomeTaxesMinorityInterestAndIncomeLossFromEquityMethodInvestments', 'IncomeLossFromContinuingOperationsPerBasicShare', 'IncomeLossFromContinuingOperationsPerDilutedShare', 'IncomeLossFromDiscontinuedOperationsNetOfTaxAttributableToReportingEntity', 'IncomeTaxExaminationEstimateOfPossibleLoss', 'IncomeTaxExpenseBenefit', 'IncomeTaxesPaid', 'IncomeTaxesPaidNet', 'IncomeTaxReceivable', 'IncomeTaxReconciliationChangeInEnactedTaxRate', 'IncreaseDecreaseInAccountsPayableAndAccruedLiabilities', 'IncreaseDecreaseInDeferredIncomeTaxes', 'IncreaseDecreaseInInventories', 'IncreaseDecreaseInOtherNoncurrentLiabilities', 'IncreaseDecreaseInOtherOperatingCapitalNet', 'IncreaseDecreaseInPrepaidDeferredExpenseAndOtherAssets', 'IncreaseDecreaseInReceivables', 'IndefinitelivedIntangibleAssetsAcquired', 'IntangibleAssetsNetExcludingGoodwill', 'InterestExpense', 'InterestPaid', 'InventoryNet', 'InventoryValuationReserves', 'InventoryWriteDown', 'InvestmentIncomeInterest', 'Land', 'LeaseCost', 'LesseeOperatingLeaseLiabilityPaymentsDue', 'LesseeOperatingLeaseLiabilityPaymentsDueAfterYearFive', 'LesseeOperatingLeaseLiabilityPaymentsDueNextTwelveMonths', 'LesseeOperatingLeaseLiabilityPaymentsDueYearFive', 'LesseeOperatingLeaseLiabilityPaymentsDueYearFour', 'LesseeOperatingLeaseLiabilityPaymentsDueYearThree', 'LesseeOperatingLeaseLiabilityPaymentsDueYearTwo', 'LesseeOperatingLeaseLiabilityPaymentsRemainderOfFiscalYear', 'LesseeOperatingLeaseLiabilityUndiscountedExcessAmount', 'LettersOfCreditOutstandingAmount', 'Liabilities', 'LiabilitiesAndStockholdersEquity', 'LiabilitiesCurrent', 'LiabilitiesNoncurrent', 'LiabilitiesOfDisposalGroupIncludingDiscontinuedOperationCurrent', 'LineOfCredit', 'LineOfCreditFacilityAmountOutstanding', 'LineOfCreditFacilityAverageOutstandingAmount', 'LineOfCreditFacilityCurrentBorrowingCapacity', 'LineOfCreditFacilityFairValueOfAmountOutstanding', 'LineOfCreditFacilityInterestRateDuringPeriod', 'LineOfCreditFacilityMaximumAmountOutstandingDuringPeriod', 'LineOfCreditFacilityRemainingBorrowingCapacity', 'LinesOfCreditCurrent', 'LongTermDebt', 'LongTermDebtCurrent', 'LongTermDebtNoncurrent', 'LongTermNotesPayable', 'LossContingencyDamagesSoughtValue', 'LossContingencyLossInPeriod', 'MarketingAndAdvertisingExpense', 'MinorityInterest', 'MinorityInterestDecreaseFromRedemptions', 'NetCashProvidedByUsedInFinancingActivities', 'NetCashProvidedByUsedInInvestingActivities', 'NetCashProvidedByUsedInOperatingActivities', 'NetIncomeLoss', 'NetIncomeLossAttributableToNoncontrollingInterest', 'NewAccountingPronouncementOrChangeInAccountingPrincipleEffectOfAdoptionQuantification', 'NoncashOrPartNoncashAcquisitionIntangibleAssetsAcquired1', 'NoncashOrPartNoncashAcquisitionNetNonmonetaryAssetsAcquiredLiabilitiesAssumed1', 'NotesPayable', 'NotesPayableCurrent', 'NotesPayableFairValueDisclosure', 'NumberOfCountriesInWhichEntityOperates', 'NumberOfOperatingSegments', 'NumberOfReportableSegments', 'NumberOfStores', 'OperatingIncomeLoss', 'OperatingLeaseCost', 'OperatingLeaseImpairmentLoss', 'OperatingLeaseLiability', 'OperatingLeaseLiabilityCurrent', 'OperatingLeaseLiabilityNoncurrent', 'OperatingLeasePayments', 'OperatingLeaseRightOfUseAsset', 'OperatingLeasesFutureMinimumPaymentsDue', 'OperatingLeasesFutureMinimumPaymentsDueCurrent', 'OperatingLeasesFutureMinimumPaymentsDueInFiveYears', 'OperatingLeasesFutureMinimumPaymentsDueInFourYears', 'OperatingLeasesFutureMinimumPaymentsDueInThreeYears', 'OperatingLeasesFutureMinimumPaymentsDueInTwoYears', 'OperatingLeasesFutureMinimumPaymentsDueThereafter', 'OperatingLeasesRentExpenseContingentRentals', 'OperatingLeasesRentExpenseMinimumRentals', 'OperatingLeasesRentExpenseNet', 'OperatingLeaseWeightedAverageDiscountRatePercent', 'OtherAccruedLiabilitiesCurrent', 'OtherAssetImpairmentCharges', 'OtherAssetsCurrent', 'OtherAssetsFairValueDisclosure', 'OtherAssetsNoncurrent', 'OtherComprehensiveIncomeForeignCurrencyTransactionAndTranslationAdjustmentNetOfTaxPeriodIncreaseDecrease', 'OtherComprehensiveIncomeForeignCurrencyTransactionAndTranslationAdjustmentNetOfTaxPortionAttributableToParent', 'OtherComprehensiveIncomeForeignCurrencyTransactionAndTranslationGainLossArisingDuringPeriodNetOfTax', 'OtherComprehensiveIncomeLossForeignCurrencyTransactionAndTranslationAdjustmentNetOfTax', 'OtherComprehensiveIncomeLossForeignCurrencyTransactionAndTranslationReclassificationAdjustmentFromAOCIRealizedUponSaleOrLiquidationNetOfTax', 'OtherComprehensiveIncomeLossForeignCurrencyTransactionAndTranslationReclassificationAdjustmentFromAOCIRealizedUponSaleOrLiquidationTax', 'OtherComprehensiveIncomeLossTaxPortionAttributableToParent1', 'OtherDepreciationAndAmortization', 'OtherLiabilitiesNoncurrent', 'OtherOperatingActivitiesCashFlowStatement', 'OtherReceivablesGrossCurrent', 'OtherSellingGeneralAndAdministrativeExpense', 'PaymentsForFees', 'PaymentsForProceedsFromInvestments', 'PaymentsForProceedsFromOtherInvestingActivities', 'PaymentsForRepurchaseOfCommonStock', 'PaymentsOfDividends', 'PaymentsOfFinancingCosts', 'PaymentsOfMergerRelatedCostsFinancingActivities', 'PaymentsOfStockIssuanceCosts', 'PaymentsRelatedToTaxWithholdingForShareBasedCompensation', 'PaymentsToAcquireBusinessesGross', 'PaymentsToAcquireBusinessesNetOfCashAcquired', 'PaymentsToAcquireProductiveAssets', 'PaymentsToAcquirePropertyPlantAndEquipment', 'PreferredStockDividendRatePerDollarAmount', 'PreferredStockParOrStatedValuePerShare', 'PreferredStockSharesAuthorized', 'PreferredStockSharesIssued', 'PreferredStockSharesOutstanding', 'PreferredStockValue', 'PrepaidExpenseAndOtherAssetsCurrent', 'PrepaidExpenseCurrent', 'PrepaidTaxes', 'ProceedsFromDivestitureOfBusinesses', 'ProceedsFromIncomeTaxRefunds', 'ProceedsFromInterestReceived', 'ProceedsFromIssuanceOfCommonStock', 'ProceedsFromIssuanceOfLongTermDebt', 'ProceedsFromIssuanceOfSharesUnderIncentiveAndShareBasedCompensationPlansIncludingStockOptions', 'ProceedsFromLifeInsurancePolicies', 'ProceedsFromLinesOfCredit', 'ProceedsFromOtherShortTermDebt', 'ProceedsFromPaymentsForOtherFinancingActivities', 'ProceedsFromSaleOfPropertyHeldForSale', 'ProceedsFromSaleOfPropertyPlantAndEquipment', 'ProfitLoss', 'PropertyPlantAndEquipmentFairValueDisclosure', 'PropertyPlantAndEquipmentGross', 'PropertyPlantAndEquipmentNet', 'ReceivablesNetCurrent', 'RepaymentsOfLinesOfCredit', 'RepaymentsOfLongTermDebt', 'RepaymentsOfNotesPayable', 'RepaymentsOfSeniorDebt', 'RestrictedCashAndCashEquivalents', 'RestrictedCashAndCashEquivalentsAtCarryingValue', 'RestrictedCashAndCashEquivalentsNoncurrent', 'RestrictedCashAndInvestments', 'RestrictedCashCurrent', 'RestrictedCashNoncurrent', 'RestructuringCharges', 'RestructuringCostsAndAssetImpairmentCharges', 'RestructuringReserve', 'RestructuringReserveCurrent', 'RestructuringReserveSettledWithCash', 'RestructuringReserveTranslationAdjustment', 'RestructuringSettlementAndImpairmentProvisions', 'RetainedEarningsAccumulatedDeficit', 'RevenueFromContractWithCustomerExcludingAssessedTax', 'Revenues', 'RightOfUseAssetObtainedInExchangeForOperatingLeaseLiability', 'SaleLeasebackTransactionNetProceedsInvestingActivities', 'SaleOfStockConsiderationReceivedOnTransaction', 'SaleOfStockNumberOfSharesIssuedInTransaction', 'SalesRevenueGoodsNet', 'SellingGeneralAndAdministrativeExpense', 'SeniorLongTermNotes', 'SeniorNotesCurrent', 'SettlementLiabilitiesCurrent', 'ShareBasedCompensation', 'ShareBasedCompensationArrangementByShareBasedPaymentAwardEquityInstrumentsOtherThanOptionsVestedInPeriod', 'ShareBasedCompensationArrangementByShareBasedPaymentAwardFairValueAssumptionsExpectedDividendRate', 'ShareBasedCompensationArrangementByShareBasedPaymentAwardFairValueAssumptionsExpectedTerm', 'ShareBasedCompensationArrangementByShareBasedPaymentAwardFairValueAssumptionsExpectedVolatilityRate', 'ShareBasedCompensationArrangementByShareBasedPaymentAwardFairValueAssumptionsRiskFreeInterestRate', 'ShareBasedCompensationArrangementByShareBasedPaymentAwardNumberOfSharesAvailableForGrant', 'ShareBasedCompensationArrangementByShareBasedPaymentAwardOptionsExercisesInPeriodTotalIntrinsicValue', 'ShareBasedCompensationArrangementByShareBasedPaymentAwardOptionsExercisesInPeriodWeightedAverageExercisePrice', 'ShareBasedCompensationArrangementByShareBasedPaymentAwardOptionsForfeituresInPeriod', 'ShareBasedCompensationArrangementByShareBasedPaymentAwardOptionsForfeituresInPeriodWeightedAverageExercisePrice', 'ShareBasedCompensationArrangementByShareBasedPaymentAwardOptionsGrantsInPeriod', 'ShareBasedCompensationArrangementByShareBasedPaymentAwardOptionsGrantsInPeriodGross', 'ShareBasedCompensationArrangementByShareBasedPaymentAwardOptionsGrantsInPeriodWeightedAverageExercisePrice', 'ShareBasedCompensationArrangementByShareBasedPaymentAwardOptionsGrantsInPeriodWeightedAverageGrantDateFairValue', 'ShareBasedCompensationArrangementByShareBasedPaymentAwardOptionsOutstandingIntrinsicValue', 'ShareBasedCompensationArrangementByShareBasedPaymentAwardOptionsOutstandingNumber', 'ShareBasedCompensationArrangementByShareBasedPaymentAwardOptionsOutstandingWeightedAverageExercisePrice', 'ShareBasedCompensationArrangementsByShareBasedPaymentAwardOptionsExercisesInPeriodWeightedAverageExercisePrice', 'ShareBasedCompensationArrangementsByShareBasedPaymentAwardOptionsForfeituresInPeriodWeightedAverageExercisePrice', 'ShareBasedCompensationArrangementsByShareBasedPaymentAwardOptionsGrantsInPeriodWeightedAverageExercisePrice', 'ShareBasedCompensationSharesAuthorizedUnderStockOptionPlansExercisePriceRangeLowerRangeLimit', 'ShareBasedCompensationSharesAuthorizedUnderStockOptionPlansExercisePriceRangeNumberOfExercisableOptions', 'ShareBasedCompensationSharesAuthorizedUnderStockOptionPlansExercisePriceRangeNumberOfOutstandingOptions', 'ShareBasedCompensationSharesAuthorizedUnderStockOptionPlansExercisePriceRangeUpperRangeLimit', 'SharebasedCompensationArrangementBySharebasedPaymentAwardOptionsExercisableIntrinsicValue1', 'SharebasedCompensationSharesAuthorizedUnderStockOptionPlansExercisePriceRangeExercisableOptionsWeightedAverageExercisePrice1', 'SharebasedCompensationSharesAuthorizedUnderStockOptionPlansExercisePriceRangeOutstandingOptionsWeightedAverageExercisePriceBeginningBalance1', 'SharebasedCompensationSharesAuthorizedUnderStockOptionPlansExercisePriceRangeOutstandingOptionsWeightedAverageRemainingContractualTerm1', 'StockholdersEquity', 'StockholdersEquityIncludingPortionAttributableToNoncontrollingInterest', 'StockIssuedDuringPeriodSharesStockOptionsExercised', 'StockIssuedDuringPeriodValueNewIssues', 'StockIssuedDuringPeriodValueShareBasedCompensation', 'StockIssuedDuringPeriodValueShareBasedCompensationGross', 'StockRepurchasedAndRetiredDuringPeriodShares', 'StockRepurchasedAndRetiredDuringPeriodValue', 'StockRepurchasedDuringPeriodShares', 'StockRepurchasedDuringPeriodValue', 'StockRepurchaseProgramAuthorizedAmount', 'StockRepurchaseProgramAuthorizedAmount1', 'StockRepurchaseProgramRemainingAuthorizedRepurchaseAmount', 'StockRepurchaseProgramRemainingAuthorizedRepurchaseAmount1', 'TangibleAssetImpairmentCharges', 'TaxCreditCarryforwardAmount', 'TreasuryStockAcquiredAverageCostPerShare', 'TreasuryStockSharesAcquired', 'UndistributedEarningsOfForeignSubsidiaries', 'UnrecognizedTaxBenefits', 'UnrecognizedTaxBenefitsDecreasesResultingFromPriorPeriodTaxPositions', 'UnrecognizedTaxBenefitsDecreasesResultingFromSettlementsWithTaxingAuthorities', 'UnrecognizedTaxBenefitsIncomeTaxPenaltiesAndInterestAccrued', 'UnrecognizedTaxBenefitsIncomeTaxPenaltiesAndInterestExpense', 'UnrecognizedTaxBenefitsIncreasesResultingFromCurrentPeriodTaxPositions', 'UnrecognizedTaxBenefitsIncreasesResultingFromPriorPeriodTaxPositions', 'UnrecognizedTaxBenefitsIncreasesResultingFromSettlementsWithTaxingAuthorities', 'UnrecognizedTaxBenefitsReductionsResultingFromLapseOfApplicableStatuteOfLimitations', 'UnrecognizedTaxBenefitsThatWouldImpactEffectiveTaxRate', 'ValuationAllowanceDeferredTaxAssetChangeInAmount', 'ValuationAllowancesAndReservesBalance', 'ValuationAllowancesAndReservesChargedToCostAndExpense', 'ValuationAllowancesAndReservesChargedToOtherAccounts', 'ValuationAllowancesAndReservesDeductions', 'VariableLeaseCost', 'WeightedAverageNumberDilutedSharesOutstandingAdjustment', 'WeightedAverageNumberOfDilutedSharesOutstanding', 'WeightedAverageNumberOfSharesOutstandingBasic', 'WriteOffOfDeferredDebtIssuanceCost', 'CollateralizedFinancings', 'DisposalGroupIncludingDiscontinuedOperationOperatingIncomeLoss', 'EffectiveIncomeTaxRateReconciliationShareBasedCompensationExcessTaxBenefitPercent', 'PurchaseObligation', 'ShareBasedCompensationArrangementByShareBasedPaymentAwardOptionsExercisableNumber', 'ProceedsFromSaleOfOtherAssetsInvestingActivities', 'DeferredCreditsAndOtherLiabilitiesCurrent', 'InterestIncomeExpenseNet', 'StockholdersEquityNoteStockSplitConversionRatio1', 'MarketableSecuritiesCurrent', 'OtherComprehensiveIncomeAvailableforsaleSecuritiesAdjustmentNetOfTaxPortionAttributableToParent', 'OtherComprehensiveIncomeAvailableforsaleSecuritiesTaxPortionAttributableToParent', 'PaymentsToAcquireMarketableSecurities', 'CapitalExpendituresIncurredButNotYetPaid', 'InterestPaidNet', 'LongTermDebtMaturitiesRepaymentsOfPrincipalInNextTwelveMonths', 'LongTermDebtMaturitiesRepaymentsOfPrincipalInYearFour', 'LongTermDebtMaturitiesRepaymentsOfPrincipalInYearThree', 'LongTermDebtMaturitiesRepaymentsOfPrincipalInYearTwo', 'ProceedsFromSaleAndMaturityOfMarketableSecurities', 'RepaymentsOfOtherShortTermDebt', 'OtherComprehensiveIncomeLossReclassificationAdjustmentFromAOCIForSaleOfSecuritiesNetOfTax', 'OtherNonoperatingIncomeExpense', 'RepaymentsOfDebt'])"
      ]
     },
     "execution_count": 211,
     "metadata": {},
     "output_type": "execute_result"
    }
   ],
   "source": [
    "comp_facts = get_companyfacts_dict(req_header, query_cik)\n",
    "us_gaap_facts_dict = comp_facts[\"facts\"][\"us-gaap\"]\n",
    "us_gaap_facts_dict.keys()"
   ]
  },
  {
   "cell_type": "code",
   "execution_count": 212,
   "metadata": {},
   "outputs": [
    {
     "data": {
      "text/plain": [
       "['ContractWithCustomerAssetCumulativeCatchUpAdjustmentToRevenueChangeInMeasureOfProgress',\n",
       " 'ContractWithCustomerLiabilityCumulativeCatchUpAdjustmentToRevenueChangeInMeasureOfProgress',\n",
       " 'CostOfRevenue',\n",
       " 'DeferredRevenueCurrent',\n",
       " 'RevenueFromContractWithCustomerExcludingAssessedTax',\n",
       " 'Revenues',\n",
       " 'SalesRevenueGoodsNet']"
      ]
     },
     "execution_count": 212,
     "metadata": {},
     "output_type": "execute_result"
    }
   ],
   "source": [
    "\n",
    "test_qr_substr = \"revenue\"\n",
    "filtered_keys = find_dict_key_substr(us_gaap_facts_dict, test_qr_substr)\n",
    "\n",
    "\"\"\"\n",
    "sub_dict = {key: us_gaap_facts_dict[key] for key in filtered_keys if key in us_gaap_facts_dict}\n",
    "\"\"\"\n",
    "filtered_keys"
   ]
  },
  {
   "cell_type": "code",
   "execution_count": 213,
   "metadata": {},
   "outputs": [
    {
     "data": {
      "text/plain": [
       "dict_keys(['label', 'description', 'units'])"
      ]
     },
     "execution_count": 213,
     "metadata": {},
     "output_type": "execute_result"
    }
   ],
   "source": [
    "us_gaap_facts_dict[\"Revenues\"].keys()"
   ]
  },
  {
   "cell_type": "code",
   "execution_count": null,
   "metadata": {},
   "outputs": [],
   "source": [
    "# Convert to pd data frame\n",
    "pd.DataFrame(us_gaap_facts_dict[\"Revenues\"][\"units\"][\"USD\"])"
   ]
  },
  {
   "cell_type": "markdown",
   "metadata": {},
   "source": [
    "### COMPANY CONCEPT"
   ]
  },
  {
   "cell_type": "code",
   "execution_count": null,
   "metadata": {},
   "outputs": [],
   "source": [
    "rev_concept = get_companyconcept_dict(req_header, query_cik, \"/us-gaap/Revenues\")\n",
    "\n",
    "# Coincides with company facts request\n",
    "pd.DataFrame(rev_concept[\"units\"][\"USD\"])\n"
   ]
  }
 ],
 "metadata": {
  "kernelspec": {
   "display_name": "Python 3",
   "language": "python",
   "name": "python3"
  },
  "language_info": {
   "codemirror_mode": {
    "name": "ipython",
    "version": 3
   },
   "file_extension": ".py",
   "mimetype": "text/x-python",
   "name": "python",
   "nbconvert_exporter": "python",
   "pygments_lexer": "ipython3",
   "version": "3.11.3"
  }
 },
 "nbformat": 4,
 "nbformat_minor": 2
}
