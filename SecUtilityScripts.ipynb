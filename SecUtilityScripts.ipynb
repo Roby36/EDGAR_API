{
 "cells": [
  {
   "cell_type": "markdown",
   "metadata": {},
   "source": [
    "### Set Up"
   ]
  },
  {
   "cell_type": "code",
   "execution_count": null,
   "metadata": {},
   "outputs": [],
   "source": [
    "import ealib\n",
    "import logging\n",
    "import pandas as pd\n",
    "from collections import Counter\n",
    "from typing import List\n",
    "import random\n",
    "from typing import Tuple\n",
    "import yfinance as yf\n",
    "import matplotlib.pyplot as plt\n",
    "import numpy as np\n",
    "\n",
    "# Required to identify with EDGAR API\n",
    "req_header = {\"User-Agent\": \"roberto.brera.24@outlook.com\"}\n",
    "\n",
    "# Select rate of requests (< 10)\n",
    "mrps = 8\n",
    "\n",
    "# Select desired logging level\n",
    "logging.basicConfig(level=logging.INFO, format='%(asctime)s - %(levelname)s - %(message)s', force=True)\n",
    "\n",
    "# Stores information about all tickers currently available on SEC database\n",
    "tickers_df = ealib.get_tickers_df(req_header)"
   ]
  },
  {
   "cell_type": "markdown",
   "metadata": {},
   "source": [
    "### Utility Scripts"
   ]
  },
  {
   "cell_type": "markdown",
   "metadata": {},
   "source": [
    "#### Select Ticker"
   ]
  },
  {
   "cell_type": "code",
   "execution_count": null,
   "metadata": {},
   "outputs": [],
   "source": [
    "query_substr =  \"micro\"\n",
    "query_ticker = ealib.find_title_substring(tickers_df, query_substr).iloc[0]\n",
    "comp_str = f'{query_ticker[\"title\"]} ({query_ticker[\"ticker\"]}, Index {query_ticker.name})'\n",
    "\n",
    "# Retrieve main dictionaries required for this ticker\n",
    "comp_mtd = ealib.get_response_dict(ealib.metadata_url(query_ticker[\"cik_str\"]), req_header, mrps)\n",
    "if comp_mtd is None:\n",
    "    logging.warning(f'Failed to retrieve company metadata for ticker {query_ticker[\"ticker\"]}')\n",
    "comp_facts = ealib.get_response_dict(ealib.companyfacts_url(query_ticker[\"cik_str\"]), req_header, mrps)\n",
    "if comp_facts is None:\n",
    "    logging.warning(f'Failed to retrieve company facts for ticker {query_ticker[\"ticker\"]}')\n",
    "\n",
    "query_ticker"
   ]
  },
  {
   "cell_type": "markdown",
   "metadata": {},
   "source": [
    "#### Download Select Filings"
   ]
  },
  {
   "cell_type": "code",
   "execution_count": null,
   "metadata": {},
   "outputs": [],
   "source": [
    "ealib.download_company_filings(\n",
    "    req_header, mrps, \n",
    "    comp_dir=\"Adecoagro Tests\", \n",
    "    select_filings=ealib.filter_filings(\n",
    "        pd.DataFrame.from_dict(comp_mtd[\"filings\"][\"recent\"]), \n",
    "        \"filingDate\", \"form\", \n",
    "\n",
    "        query_forms=[\"\"], \n",
    "        max_days=1080,\n",
    "        min_days=0\n",
    "        \n",
    "        ),\n",
    "    ticker=query_ticker, \n",
    "    write_txt=False, \n",
    "    write_pdf=True\n",
    ")"
   ]
  },
  {
   "cell_type": "markdown",
   "metadata": {},
   "source": [
    "#### Obtaining a company fact using yf"
   ]
  },
  {
   "cell_type": "code",
   "execution_count": null,
   "metadata": {},
   "outputs": [],
   "source": [
    "# Start by making yf ticker obejct\n",
    "curr_yticker = yf.Ticker(query_ticker[\"ticker\"])"
   ]
  },
  {
   "cell_type": "code",
   "execution_count": null,
   "metadata": {},
   "outputs": [],
   "source": [
    "# Search for particular info keys using search functions\n",
    "ealib.find_dict_key_substr(curr_yticker.info, [\"currency\"])\n",
    "ealib.find_dict_key_substr(curr_yticker.info, [\"cap\"])\n",
    "ealib.find_keys_containing_all_substrs(curr_yticker.info, [\"cash\", \"operating\"])"
   ]
  },
  {
   "cell_type": "code",
   "execution_count": null,
   "metadata": {},
   "outputs": [],
   "source": [
    "# Use encapsulated function to search safely for the company fact, returning None if not found\n",
    "ealib.yf_info(query_ticker[\"ticker\"], \"marketCap\")\n",
    "ealib.yf_info(query_ticker[\"ticker\"], \"currency\")\n",
    "ealib.yf_info(query_ticker[\"ticker\"], \"operatingCashflow\")"
   ]
  },
  {
   "cell_type": "code",
   "execution_count": null,
   "metadata": {},
   "outputs": [],
   "source": [
    "# Generate info series for a df of tickers (can be directly stored on source df)\n",
    "marketCap_series = tickers_df[:100][\"ticker\"].apply(lambda x: ealib.yf_info(x, \"marketCap\"))\n",
    "marketCap_series"
   ]
  },
  {
   "cell_type": "markdown",
   "metadata": {},
   "source": [
    "#### Saved Refined Query Strings for Company Facts"
   ]
  },
  {
   "cell_type": "code",
   "execution_count": null,
   "metadata": {},
   "outputs": [],
   "source": [
    "shares_outstanding_query_str = [\"NumberOfSharesOutstanding\", \"EntityCommonStockSharesOutstanding\", \"CommonStockSharesOutstanding\"]\n",
    "ocf_query_str = [\"NetCashProvidedByUsedInOperatingActivities\", \"CashFlowsFromUsedInOperatingActivities\"]\n",
    "# To use with sufficient = True"
   ]
  },
  {
   "cell_type": "markdown",
   "metadata": {},
   "source": [
    "#### Interactive Company Fact Search"
   ]
  },
  {
   "cell_type": "code",
   "execution_count": null,
   "metadata": {},
   "outputs": [],
   "source": [
    "print_all_comp_fact_df = False\n",
    "display_short_comp_fact_df = False\n",
    "\n",
    "# If you do not yet have query str -> Broad search\n",
    "query_fact_substr = [\"cash\", \"operat\"]\n",
    "sufficient = False\n",
    "\n",
    "# If you have query str -> Refined search \n",
    "\"\"\"\n",
    "query_fact_substr = [\"NumberOfSharesOutstanding\", \"EntityCommonStockSharesOutstanding\", \"CommonStockSharesOutstanding\"] # Refined list\n",
    "sufficient = True\n",
    "\"\"\"\n",
    "\n",
    "# Navigate company facts dictionary and find all matches to query company fact\n",
    "res = ealib.comp_facts_df(\n",
    "    comp_facts,\n",
    "    query_fact_substr, \n",
    "    sufficient,\n",
    ")\n",
    "for units, as_key, match_fact, comp_fact_df in res:\n",
    "    logging.info(f'Found company fact matching {query_fact_substr}: as_key = {as_key}, match_fact = {match_fact}, units = {units}')\n",
    "    logging.info(f'\\n\\t{comp_fact_df}') if print_all_comp_fact_df else None\n",
    "if res: # If only one company fact required, select closest match by choosing shortest matching string\n",
    "    res_units, res_as_key, res_match_fact, res_comp_fact_df = min(res, key=lambda x: len(x[2]))\n",
    "    logging.info(f'Shortest company fact match:\\n\\t res_as_key = {res_as_key}, res_match_fact = {res_match_fact}, res_units = {res_units}')\n",
    "    display(res_comp_fact_df) if display_short_comp_fact_df else None"
   ]
  },
  {
   "cell_type": "markdown",
   "metadata": {},
   "source": [
    "#### Analyze presence of selected company fact across tickers_df"
   ]
  },
  {
   "cell_type": "code",
   "execution_count": null,
   "metadata": {},
   "outputs": [],
   "source": [
    "# Search company fact with refined query string \n",
    "query_fact_substr = [\"NumberOfSharesOutstanding\", \"EntityCommonStockSharesOutstanding\", \"CommonStockSharesOutstanding\"] \n",
    "sufficient = True\n",
    "print_short_comp_fact_df = False\n",
    "num_tests = 10\n",
    "\n",
    "len_counter = Counter()\n",
    "for _ in range(num_tests):\n",
    "    random_number = random.randint(1, 10000)\n",
    "    curr_ticker = tickers_df.iloc[random_number]\n",
    "    comp_str = f'ticker number: {random_number}; ticker: {curr_ticker[\"ticker\"]}; company title: {curr_ticker[\"title\"]}'\n",
    "\n",
    "    # Request comp facts dictionary\n",
    "    comp_facts = ealib.get_response_dict(ealib.companyfacts_url(curr_ticker[\"cik_str\"]), req_header, mrps)\n",
    "    if comp_facts is None:\n",
    "            logging.warning(f'Failed request when attempting to retrieve company facts for {comp_str}')\n",
    "            len_counter['failed reqs'] += 1\n",
    "\n",
    "    # Extract desired company fact\n",
    "    res = ealib.comp_facts_df(\n",
    "        comp_facts,\n",
    "        query_fact_substr, \n",
    "        sufficient,\n",
    "    )\n",
    "    # Record the number of matches\n",
    "    len_counter[f'{len(res)}'] += 1\n",
    "\n",
    "    for units, as_key, match_fact, comp_fact_df in res:\n",
    "        logging.info(f'Found company fact matching {query_fact_substr}: as_key = {as_key}, match_fact = {match_fact}, units = {units} with {comp_str}')\n",
    "    if res: # Now extract tuple with shortest match_fact\n",
    "        res_units, res_as_key, res_match_fact, res_comp_fact_df = min(res, key=lambda x: len(x[2]))\n",
    "        logging.info(f'Shortest match fact tuple selected:\\n\\t res_as_key = {res_as_key}, res_match_fact = {res_match_fact}, res_units = {res_units} for test with {comp_str}')\n",
    "        logging.info(res_comp_fact_df) if print_short_comp_fact_df else None\n",
    "        \n",
    "len_counter\n"
   ]
  },
  {
   "cell_type": "markdown",
   "metadata": {},
   "source": [
    "#### Graphing a Company Fact Over Time"
   ]
  },
  {
   "cell_type": "markdown",
   "metadata": {},
   "source": [
    "##### Select Filings for Graph's Values"
   ]
  },
  {
   "cell_type": "code",
   "execution_count": null,
   "metadata": {},
   "outputs": [],
   "source": [
    "\"\"\"\n",
    "    Run Interactive Company Fact Search first, establishing following variables\n",
    "    res_units, res_as_key, res_match_fact, res_comp_fact_df\n",
    "\"\"\"\n",
    "\n",
    "# First check the filings on which graph will be based\n",
    "filing_date_col = \"end\"\n",
    "y_axis_col = \"val\"\n",
    "max_days = 360\n",
    "\n",
    "select_filings_df = ealib.filter_filings(res_comp_fact_df, filing_date_col=filing_date_col, form_col=\"form\", query_forms=[\"\"], max_days=max_days)\n",
    "select_filings_df"
   ]
  },
  {
   "cell_type": "markdown",
   "metadata": {},
   "source": [
    "##### Plot Graph"
   ]
  },
  {
   "cell_type": "code",
   "execution_count": null,
   "metadata": {},
   "outputs": [],
   "source": [
    "plt.figure(figsize=(10, 5))  # Set the figure size (optional)\n",
    "plt.plot( select_filings_df[filing_date_col], select_filings_df[y_axis_col], marker='o')  # Line plot with markers\n",
    "plt.title(f'{res_match_fact} for {comp_str}')  # Adding a title to the graph\n",
    "plt.xlabel('Filing end date')  # Label for the x-axis\n",
    "plt.ylabel(f'Reported Number of {res_match_fact}')  # Label for the y-axis\n",
    "plt.grid(True)  # Enable grid for easier readability\n",
    "plt.xticks(rotation=45)\n",
    "plt.show()  # Display the plot"
   ]
  },
  {
   "cell_type": "markdown",
   "metadata": {},
   "source": [
    "#### Calculating cash burn rate"
   ]
  },
  {
   "cell_type": "code",
   "execution_count": null,
   "metadata": {},
   "outputs": [],
   "source": [
    "\"\"\" \n",
    "Calculates average cash burn daily rate, according to all SEC filing data available over the specified period\n",
    "\"\"\"\n",
    "min_days = 0\n",
    "max_days = 360\n",
    "query_forms = [\"\"]\n",
    "filing_date_col = \"filed\"\n",
    "\n",
    "res = ealib.comp_facts_df(\n",
    "    comp_facts,\n",
    "    [\"NetCashProvidedByUsedInOperatingActivities\", \"CashFlowsFromUsedInOperatingActivities\"], \n",
    "    True\n",
    ")\n",
    "if res:\n",
    "    res_units, res_as_key, res_match_fact, res_comp_fact_df = min(res, key=lambda x: len(x[2]))\n",
    "    ocf_df_filt = ealib.filter_filings(res_comp_fact_df, filing_date_col=filing_date_col, form_col=\"form\", query_forms=query_forms, max_days=max_days, min_days=min_days)\n",
    "    display(f'Average daily OCF burn rate {ealib.ocf_average_daily_burn_rate(ocf_df_filt)}, with units {res_units} and company fact {res_match_fact}, under accounting standards {res_as_key}')\n"
   ]
  },
  {
   "cell_type": "markdown",
   "metadata": {},
   "source": [
    "#### Converting between currencies"
   ]
  },
  {
   "cell_type": "code",
   "execution_count": null,
   "metadata": {},
   "outputs": [],
   "source": [
    "from_currency = \"USD\"\n",
    "to_currency = \"USD\"\n",
    "forex_ticker =  f\"{from_currency}{to_currency}=X\"\n",
    "\n",
    "ealib.yf_info(forex_ticker, \"previousClose\")"
   ]
  }
 ],
 "metadata": {
  "kernelspec": {
   "display_name": "Python 3",
   "language": "python",
   "name": "python3"
  },
  "language_info": {
   "codemirror_mode": {
    "name": "ipython",
    "version": 3
   },
   "file_extension": ".py",
   "mimetype": "text/x-python",
   "name": "python",
   "nbconvert_exporter": "python",
   "pygments_lexer": "ipython3",
   "version": "3.11.3"
  }
 },
 "nbformat": 4,
 "nbformat_minor": 2
}
